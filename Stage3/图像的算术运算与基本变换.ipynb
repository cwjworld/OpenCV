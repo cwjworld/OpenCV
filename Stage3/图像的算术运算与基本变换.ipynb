{
 "cells": [
  {
   "cell_type": "code",
   "execution_count": 2,
   "id": "19909bf2",
   "metadata": {
    "collapsed": false,
    "deletable": true,
    "editable": true
   },
   "outputs": [
    {
     "name": "stdout",
     "output_type": "stream",
     "text": [
      "(444, 316, 3)\n",
      "(295, 474, 3)\n"
     ]
    }
   ],
   "source": [
    "# 图像加法\n",
    "import cv2\n",
    "import numpy as np\n",
    "\n",
    "# 读取图片\n",
    "cat = cv2.imread('./cat.jpg')\n",
    "dog = cv2.imread('./dog.jpg')\n",
    "\n",
    "print(cat.shape)\n",
    "print(dog.shape)\n",
    "\n",
    "#通过ndarray的切片的方式去除完全一样的形状\n",
    "new_cat = cat[0:280, 0:300]\n",
    "new_dog = dog[0:280, 0:300]\n",
    "\n",
    "# 图片还可以和单个数字进行运算,超出255会被截断,相当于减去255\n",
    "# dog += 100\n",
    "# cv2.imshow('dog', dog)\n",
    "\n",
    "# cv2.add() 要求两张图片的长宽相同以及通道数相同\n",
    "new_img = cv2.add(new_cat, new_dog)\n",
    "\n",
    "cv2.imshow('new_img', new_img)\n",
    "cv2.waitKey(0)\n",
    "cv2.destroyAllWindows()"
   ]
  },
  {
   "cell_type": "code",
   "execution_count": 4,
   "id": "15954df0",
   "metadata": {
    "collapsed": true
   },
   "outputs": [],
   "source": [
    "# 图像的减法\n",
    "import cv2\n",
    "import numpy as np\n",
    "\n",
    "# 读取图片\n",
    "cat = cv2.imread('./cat.jpg')\n",
    "dog = cv2.imread('./dog.jpg')\n",
    "\n",
    "new_cat = cat[0:280, 0:300]\n",
    "new_dog = dog[0:280, 0:300]\n",
    "\n",
    "new_img = cv2.subtract(new_cat, new_dog)\n",
    "\n",
    "cv2.imshow('new_img', new_img)\n",
    "cv2.waitKey(0)\n",
    "cv2.destroyAllWindows()"
   ]
  },
  {
   "cell_type": "code",
   "execution_count": 5,
   "id": "3a14f762",
   "metadata": {
    "collapsed": true
   },
   "outputs": [],
   "source": [
    "# 图像的乘法\n",
    "import cv2\n",
    "import numpy as np\n",
    "\n",
    "# 读取图片\n",
    "cat = cv2.imread('./cat.jpg')\n",
    "dog = cv2.imread('./dog.jpg')\n",
    "\n",
    "new_cat = cat[0:280, 0:300]\n",
    "new_dog = dog[0:280, 0:300]\n",
    "\n",
    "new_img = cv2.multiply(new_cat, new_dog)\n",
    "\n",
    "cv2.imshow('new_img', new_img)\n",
    "cv2.waitKey(0)\n",
    "cv2.destroyAllWindows()"
   ]
  },
  {
   "cell_type": "code",
   "execution_count": 7,
   "id": "43dc7d3e",
   "metadata": {
    "collapsed": true
   },
   "outputs": [],
   "source": [
    "# 图像的除法\n",
    "import cv2\n",
    "import numpy as np\n",
    "\n",
    "# 读取图片\n",
    "cat = cv2.imread('./cat.jpg')\n",
    "dog = cv2.imread('./dog.jpg')\n",
    "\n",
    "new_cat = cat[0:280, 0:300]\n",
    "new_dog = dog[0:280, 0:300]\n",
    "\n",
    "new_img = cv2.divide(new_cat, new_dog)\n",
    "\n",
    "cv2.imshow('new_img', new_img)\n",
    "cv2.waitKey(0)\n",
    "cv2.destroyAllWindows()"
   ]
  },
  {
   "cell_type": "code",
   "execution_count": 11,
   "id": "905d5841",
   "metadata": {
    "collapsed": false
   },
   "outputs": [],
   "source": [
    "# 图像的融合\n",
    "# 不是传统意义的加法，而是拿图片进行了线性运算，new_img = img1 * w1 + img2 * w2 + bias\n",
    "import cv2\n",
    "import numpy as np\n",
    "\n",
    "\n",
    "cat = cv2.imread('./cat.jpg')\n",
    "dog = cv2.imread('./dog.jpg')\n",
    "\n",
    "new_cat = cat[0:280, 0:300]\n",
    "new_dog = dog[0:280, 0:300]\n",
    "\n",
    "new_img = cv2.addWeighted(new_cat, 0.3, new_dog, 0.7, -100)\n",
    "\n",
    "cv2.imshow('new_img', new_img)\n",
    "cv2.waitKey(0)\n",
    "cv2.destroyAllWindows()"
   ]
  },
  {
   "cell_type": "code",
   "execution_count": null,
   "id": "de5a54ed",
   "metadata": {
    "collapsed": true
   },
   "outputs": [],
   "source": []
  }
 ],
 "metadata": {
  "kernelspec": {
   "display_name": "Python 3",
   "language": "python",
   "name": "python3"
  },
  "language_info": {
   "codemirror_mode": {
    "name": "ipython",
    "version": 3
   },
   "file_extension": ".py",
   "mimetype": "text/x-python",
   "name": "python",
   "nbconvert_exporter": "python",
   "pygments_lexer": "ipython3",
   "version": "3.6.7"
  }
 },
 "nbformat": 4,
 "nbformat_minor": 5
}
