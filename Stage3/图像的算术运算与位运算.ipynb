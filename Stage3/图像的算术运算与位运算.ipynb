{
 "cells": [
  {
   "cell_type": "code",
   "execution_count": 2,
   "id": "6931e98b",
   "metadata": {
    "collapsed": false,
    "deletable": true,
    "editable": true
   },
   "outputs": [
    {
     "name": "stdout",
     "output_type": "stream",
     "text": [
      "(444, 316, 3)\n",
      "(295, 474, 3)\n"
     ]
    }
   ],
   "source": [
    "# 图像加法\n",
    "import cv2\n",
    "import numpy as np\n",
    "\n",
    "# 读取图片\n",
    "cat = cv2.imread('./cat.jpg')\n",
    "dog = cv2.imread('./dog.jpg')\n",
    "\n",
    "print(cat.shape)\n",
    "print(dog.shape)\n",
    "\n",
    "#通过ndarray的切片的方式去除完全一样的形状\n",
    "new_cat = cat[0:280, 0:300]\n",
    "new_dog = dog[0:280, 0:300]\n",
    "\n",
    "# 图片还可以和单个数字进行运算,超出255会被截断,相当于减去255\n",
    "# dog += 100\n",
    "# cv2.imshow('dog', dog)\n",
    "\n",
    "# cv2.add() 要求两张图片的长宽相同以及通道数相同\n",
    "new_img = cv2.add(new_cat, new_dog)\n",
    "\n",
    "cv2.imshow('new_img', new_img)\n",
    "cv2.waitKey(0)\n",
    "cv2.destroyAllWindows()"
   ]
  },
  {
   "cell_type": "code",
   "execution_count": 4,
   "id": "ab2396d9",
   "metadata": {
    "collapsed": true,
    "deletable": true,
    "editable": true
   },
   "outputs": [],
   "source": [
    "# 图像的减法\n",
    "import cv2\n",
    "import numpy as np\n",
    "\n",
    "# 读取图片\n",
    "cat = cv2.imread('./cat.jpg')\n",
    "dog = cv2.imread('./dog.jpg')\n",
    "\n",
    "new_cat = cat[0:280, 0:300]\n",
    "new_dog = dog[0:280, 0:300]\n",
    "\n",
    "new_img = cv2.subtract(new_cat, new_dog)\n",
    "\n",
    "cv2.imshow('new_img', new_img)\n",
    "cv2.waitKey(0)\n",
    "cv2.destroyAllWindows()"
   ]
  },
  {
   "cell_type": "code",
   "execution_count": 5,
   "id": "538bf727",
   "metadata": {
    "collapsed": true,
    "deletable": true,
    "editable": true
   },
   "outputs": [],
   "source": [
    "# 图像的乘法\n",
    "import cv2\n",
    "import numpy as np\n",
    "\n",
    "# 读取图片\n",
    "cat = cv2.imread('./cat.jpg')\n",
    "dog = cv2.imread('./dog.jpg')\n",
    "\n",
    "new_cat = cat[0:280, 0:300]\n",
    "new_dog = dog[0:280, 0:300]\n",
    "\n",
    "new_img = cv2.multiply(new_cat, new_dog)\n",
    "\n",
    "cv2.imshow('new_img', new_img)\n",
    "cv2.waitKey(0)\n",
    "cv2.destroyAllWindows()"
   ]
  },
  {
   "cell_type": "code",
   "execution_count": 7,
   "id": "f0404fc7",
   "metadata": {
    "collapsed": true,
    "deletable": true,
    "editable": true
   },
   "outputs": [],
   "source": [
    "# 图像的除法\n",
    "import cv2\n",
    "import numpy as np\n",
    "\n",
    "# 读取图片\n",
    "cat = cv2.imread('./cat.jpg')\n",
    "dog = cv2.imread('./dog.jpg')\n",
    "\n",
    "new_cat = cat[0:280, 0:300]\n",
    "new_dog = dog[0:280, 0:300]\n",
    "\n",
    "new_img = cv2.divide(new_cat, new_dog)\n",
    "\n",
    "cv2.imshow('new_img', new_img)\n",
    "cv2.waitKey(0)\n",
    "cv2.destroyAllWindows()"
   ]
  },
  {
   "cell_type": "code",
   "execution_count": 14,
   "id": "6b92ca61",
   "metadata": {
    "collapsed": false,
    "deletable": true,
    "editable": true
   },
   "outputs": [],
   "source": [
    "# 图像的融合\n",
    "# 不是传统意义的加法，而是拿图片进行了线性运算，new_img = img1 * w1 + img2 * w2 + bias\n",
    "import cv2\n",
    "import numpy as np\n",
    "\n",
    "\n",
    "cat = cv2.imread('./cat.jpg')\n",
    "dog = cv2.imread('./dog.jpg')\n",
    "\n",
    "new_cat = cat[0:280, 0:300]\n",
    "new_dog = dog[0:280, 0:300]\n",
    "\n",
    "new_img = cv2.addWeighted(new_cat, 0.5, new_dog, 0.5, 0)\n",
    "\n",
    "cv2.imshow('new_img', new_img)\n",
    "cv2.waitKey(0)\n",
    "cv2.destroyAllWindows()"
   ]
  },
  {
   "cell_type": "markdown",
   "id": "d9b66c39",
   "metadata": {},
   "source": [
    "## OpenCV的位运算\n"
   ]
  },
  {
   "cell_type": "code",
   "execution_count": 10,
   "id": "6d6e09f7",
   "metadata": {
    "collapsed": true,
    "deletable": true,
    "editable": true
   },
   "outputs": [
    {
     "name": "stdout",
     "output_type": "stream",
     "text": [
      "[[[50 78 79]\n",
      "  [50 78 79]]\n",
      "\n",
      " [[50 78 79]\n",
      "  [50 77 81]]]\n",
      "[[[205 177 176]\n",
      "  [205 177 176]]\n",
      "\n",
      " [[205 177 176]\n",
      "  [205 178 174]]]\n"
     ]
    }
   ],
   "source": [
    "# OpenCV的逻辑运算——与或非、异或\n",
    "# OpenCV的逻辑运算就是对应位置元素进行与或非、异或\n",
    "import cv2\n",
    "import numpy as np\n",
    "\n",
    "# 读取图片\n",
    "cat = cv2.imread('./cat.jpg')\n",
    "dog = cv2.imread('./dog.jpg')\n",
    "            \n",
    "# 非操作   相当于 255 - cat\n",
    "cat_not = cv2.bitwise_not(cat)\n",
    "cv2.imshow('not', np.hstack((cat, cat_not)))\n",
    "print(cat[:2, :2])\n",
    "print(cat_not[:2, :2])\n",
    "\n",
    "cv2.waitKey(0)\n",
    "cv2.destroyAllWindows()"
   ]
  },
  {
   "cell_type": "code",
   "execution_count": 4,
   "id": "4b5f837c",
   "metadata": {
    "collapsed": true
   },
   "outputs": [
    {
     "name": "stdout",
     "output_type": "stream",
     "text": [
      "[[[50 78 79]\n",
      "  [50 78 79]\n",
      "  [50 77 81]\n",
      "  [50 77 81]\n",
      "  [50 76 82]]\n",
      "\n",
      " [[50 78 79]\n",
      "  [50 77 81]\n",
      "  [50 77 81]\n",
      "  [50 76 82]\n",
      "  [50 76 82]]\n",
      "\n",
      " [[50 77 81]\n",
      "  [50 77 81]\n",
      "  [50 77 81]\n",
      "  [50 76 82]\n",
      "  [50 76 82]]\n",
      "\n",
      " [[50 77 81]\n",
      "  [50 76 82]\n",
      "  [50 76 82]\n",
      "  [50 76 82]\n",
      "  [50 76 83]]\n",
      "\n",
      " [[50 76 82]\n",
      "  [50 76 82]\n",
      "  [50 76 82]\n",
      "  [50 76 83]\n",
      "  [50 76 83]]]\n",
      "[[[ 2 78 73]\n",
      "  [ 2 78 73]\n",
      "  [ 0 73 64]\n",
      "  [ 2 69 64]\n",
      "  [ 0 72 64]]\n",
      "\n",
      " [[ 2 70 65]\n",
      "  [ 0 69 64]\n",
      "  [48 65 80]\n",
      "  [50 76 80]\n",
      "  [48 64 80]]\n",
      "\n",
      " [[ 2 68 65]\n",
      "  [ 0 69 64]\n",
      "  [48 65 80]\n",
      "  [50 76 82]\n",
      "  [50 64 80]]\n",
      "\n",
      " [[50 64 81]\n",
      "  [50 64 82]\n",
      "  [50 76 82]\n",
      "  [48 72 80]\n",
      "  [50 76 80]]\n",
      "\n",
      " [[48 72 82]\n",
      "  [48 72 82]\n",
      "  [48 68 82]\n",
      "  [48 68 82]\n",
      "  [50 72 81]]]\n"
     ]
    }
   ],
   "source": [
    "import cv2\n",
    "import numpy as np\n",
    "\n",
    "# 读取图片\n",
    "cat = cv2.imread('./cat.jpg')\n",
    "dog = cv2.imread('./dog.jpg')\n",
    "            \n",
    "# 与操作   \n",
    "cat_not = cv2.bitwise_not(cat)\n",
    "new_cat = cat[0:280, 0:300]\n",
    "new_dog = dog[0:280, 0:300]\n",
    "\n",
    "# 两个图片对应的元素进行与操作\n",
    "cat_and = cv2.bitwise_and(new_cat, new_dog)\n",
    "cv2.imshow('not', np.hstack((new_cat, cat_and)))\n",
    "print(new_cat[:5, :5])\n",
    "print(cat_and[:5, :5])\n",
    "\n",
    "cv2.waitKey(0)\n",
    "cv2.destroyAllWindows()"
   ]
  },
  {
   "cell_type": "code",
   "execution_count": 10,
   "id": "59b9f86a",
   "metadata": {
    "collapsed": false
   },
   "outputs": [
    {
     "name": "stdout",
     "output_type": "stream",
     "text": [
      "[[[50 78 79]\n",
      "  [50 78 79]]\n",
      "\n",
      " [[50 78 79]\n",
      "  [50 77 81]]]\n",
      "--------------------\n",
      "[[[202 222 233]\n",
      "  [202 222 233]]\n",
      "\n",
      " [[194 214 225]\n",
      "  [193 213 224]]]\n",
      "--------------------\n",
      "[[[250 222 239]\n",
      "  [250 222 239]]\n",
      "\n",
      " [[242 222 239]\n",
      "  [243 221 241]]]\n"
     ]
    }
   ],
   "source": [
    "import cv2\n",
    "import numpy\n",
    "\n",
    "cat = cv2.imread('./cat.jpg')\n",
    "dog = cv2.imread('./dog.jpg')\n",
    "\n",
    "# 或操作\n",
    "new_cat = cat[0:280, 0:300]\n",
    "new_dog = dog[0:280, 0:300]\n",
    "\n",
    "cat_or = cv2.bitwise_or(new_cat, new_dog)\n",
    "cv2.imshow('not', np.hstack((new_cat, new_dog, cat_or)))\n",
    "print(new_cat[:2, :2])\n",
    "print('--------------------')\n",
    "print(new_dog[:2, :2])\n",
    "print('--------------------')\n",
    "print(cat_or[:2, :2])\n",
    "    \n",
    "cv2.waitKey(0)\n",
    "cv2.destroyAllWindows()"
   ]
  },
  {
   "cell_type": "code",
   "execution_count": 11,
   "id": "d7f4dc4e",
   "metadata": {
    "collapsed": false
   },
   "outputs": [
    {
     "name": "stdout",
     "output_type": "stream",
     "text": [
      "[[[50 78 79]\n",
      "  [50 78 79]]\n",
      "\n",
      " [[50 78 79]\n",
      "  [50 77 81]]]\n",
      "--------------------\n",
      "[[[202 222 233]\n",
      "  [202 222 233]]\n",
      "\n",
      " [[194 214 225]\n",
      "  [193 213 224]]]\n",
      "--------------------\n",
      "[[[248 144 166]\n",
      "  [248 144 166]]\n",
      "\n",
      " [[240 152 174]\n",
      "  [243 152 177]]]\n"
     ]
    }
   ],
   "source": [
    "import cv2\n",
    "import numpy as np\n",
    "\n",
    "cat = cv2.imread('./cat.jpg')\n",
    "dog = cv2.imread('./dog.jpg')\n",
    "\n",
    "# 或操作\n",
    "new_cat = cat[0:280, 0:300]\n",
    "new_dog = dog[0:280, 0:300]\n",
    "\n",
    "cat_xor = cv2.bitwise_xor(new_cat, new_dog)\n",
    "cv2.imshow('not', np.hstack((new_cat, new_dog, cat_xor)))\n",
    "print(new_cat[:2, :2])\n",
    "print('--------------------')\n",
    "print(new_dog[:2, :2])\n",
    "print('--------------------')\n",
    "print(cat_xor[:2, :2])\n",
    "    \n",
    "cv2.waitKey(0)\n",
    "cv2.destroyAllWindows()"
   ]
  },
  {
   "cell_type": "code",
   "execution_count": null,
   "id": "b6ba8ef9",
   "metadata": {
    "collapsed": true
   },
   "outputs": [],
   "source": []
  }
 ],
 "metadata": {
  "kernelspec": {
   "display_name": "Python 3",
   "language": "python",
   "name": "python3"
  },
  "language_info": {
   "codemirror_mode": {
    "name": "ipython",
    "version": 3
   },
   "file_extension": ".py",
   "mimetype": "text/x-python",
   "name": "python",
   "nbconvert_exporter": "python",
   "pygments_lexer": "ipython3",
   "version": "3.6.7"
  }
 },
 "nbformat": 4,
 "nbformat_minor": 5
}
