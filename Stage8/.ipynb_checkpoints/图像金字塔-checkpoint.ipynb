{
 "cells": [
  {
   "cell_type": "markdown",
   "id": "c17a4a64",
   "metadata": {},
   "source": [
    "# 高斯金字塔"
   ]
  },
  {
   "cell_type": "code",
   "execution_count": 4,
   "id": "a6c81f66",
   "metadata": {},
   "outputs": [
    {
     "name": "stdout",
     "output_type": "stream",
     "text": [
      "(512, 512, 3)\n",
      "(256, 256, 3)\n"
     ]
    }
   ],
   "source": [
    "# 向下采样\n",
    "import cv2\n",
    "import numpy as np\n",
    "\n",
    "img = cv2.imread('./lena.jpg')\n",
    "\n",
    "print(img.shape)\n",
    "# 分辨率减小的操作，下采样\n",
    "dst = cv2.pyrDown(img)\n",
    "print(dst .shape)\n",
    "dst2 = cv2.pyrDown(dst)\n",
    "\n",
    "cv2.imshow('img', img)\n",
    "cv2.imshow('dst', dst)\n",
    "cv2.imshow('dst2', dst2)\n",
    "\n",
    "cv2.waitKey(0)\n",
    "cv2.destroyAllWindows()"
   ]
  },
  {
   "cell_type": "code",
   "execution_count": 6,
   "id": "81c9db65",
   "metadata": {},
   "outputs": [
    {
     "name": "stdout",
     "output_type": "stream",
     "text": [
      "(512, 512, 3)\n",
      "(1024, 1024, 3)\n"
     ]
    }
   ],
   "source": [
    "# 向上采样\n",
    "import cv2\n",
    "import numpy as np\n",
    "\n",
    "img = cv2.imread('./lena.jpg')\n",
    "\n",
    "print(img.shape)\n",
    "dst = cv2.pyrUp(img)\n",
    "print(dst .shape)\n",
    "dst2 = cv2.pyrUp(dst)\n",
    "\n",
    "cv2.imshow('img', img)\n",
    "cv2.imshow('dst', dst)\n",
    "cv2.imshow('dst2', dst2)\n",
    "\n",
    "cv2.waitKey(0)\n",
    "cv2.destroyAllWindows()"
   ]
  },
  {
   "cell_type": "markdown",
   "id": "47cd7c1d",
   "metadata": {},
   "source": [
    "### 拉普拉斯金字塔"
   ]
  },
  {
   "cell_type": "code",
   "execution_count": 4,
   "id": "0b5d63cb",
   "metadata": {},
   "outputs": [],
   "source": [
    "import cv2\n",
    "import numpy as np\n",
    "\n",
    "img = cv2.imread('./lena.jpg')\n",
    "\n",
    "# 先缩小\n",
    "dst = cv2.pyrDown(img)\n",
    "# 再放大\n",
    "dst = cv2.pyrUp(dst)\n",
    "# 原图和高斯金字塔的差就是拉普拉斯金字塔\n",
    "lap0 = img - dst\n",
    "\n",
    "# 第二层\n",
    "dst1 = cv2.pyrDown(dst)\n",
    "dst1 = cv2.pyrUp(dst1)\n",
    "lap1 = dst - dst1\n",
    "\n",
    "cv2.imshow('img', img)\n",
    "cv2.imshow('lap0', lap0)\n",
    "cv2.imshow('lap1', lap1)\n",
    "\n",
    "cv2.waitKey(0)\n",
    "cv2.destroyAllWindows()"
   ]
  }
 ],
 "metadata": {
  "kernelspec": {
   "display_name": "Python 3 (ipykernel)",
   "language": "python",
   "name": "python3"
  },
  "language_info": {
   "codemirror_mode": {
    "name": "ipython",
    "version": 3
   },
   "file_extension": ".py",
   "mimetype": "text/x-python",
   "name": "python",
   "nbconvert_exporter": "python",
   "pygments_lexer": "ipython3",
   "version": "3.7.15"
  }
 },
 "nbformat": 4,
 "nbformat_minor": 5
}
