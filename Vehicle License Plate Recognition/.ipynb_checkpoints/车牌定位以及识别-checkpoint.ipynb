{
 "cells": [
  {
   "cell_type": "code",
   "execution_count": 12,
   "id": "08540373",
   "metadata": {},
   "outputs": [],
   "source": [
    "import cv2\n",
    "\n",
    "car = cv2.imread('./car3.jpg')\n",
    "gray = cv2.cvtColor(car, code=cv2.COLOR_BGR2GRAY)\n",
    "\n",
    "car_detector = cv2.CascadeClassifier('./haarcascade_car_plate.xml')\n",
    "\n",
    "plates = car_detector.detectMultiScale(gray)\n",
    "\n",
    "for x, y, w, h in plates:\n",
    "    cv2.rectangle(car, pt1=(x, y), pt2=(x+w, y+h), color=[0, 0, 255], thickness=2)\n",
    "\n",
    "cv2.imshow('plate', car)\n",
    "cv2.waitKey(0)\n",
    "cv2.destroyAllWindows()"
   ]
  },
  {
   "cell_type": "code",
   "execution_count": 1,
   "id": "b5db874c",
   "metadata": {},
   "outputs": [],
   "source": [
    "import cv2\n",
    "import numpy as np\n",
    "\n",
    "def lpr(filename):\n",
    "    img = cv2.imread(filename)\n",
    "    # 高斯函数的参数设置，第四个参数设为0，表示不计算，原因是车牌上的数字在竖方向较长，重点在于得到竖方向的边界值\n",
    "    gray_img = cv2.cvtColor(img, code=cv2.COLOR_RGB2GRAY)\n",
    "    cv2.imshow('gray', gray_img)\n",
    "    GaussianBlur_img = cv2.GaussianBlur(gray_img, (3, 3), 0)   # 高斯平滑  高斯模糊\n",
    "    cv2.imshow('gaussian', GaussianBlur_img)\n",
    "    Sobel_img = cv2.Sobel(GaussianBlur_img, -1, 1, 0, ksize=3)    # 提取边界\n",
    "    cv2.imshow('sobel', Sobel_img)\n",
    "    ret, binary_img = cv2.threshold(Sobel_img, 127, 255, cv2.THRESH_BINARY)  # 二值化操作\n",
    "    cv2.imshow('binary', binary_img)\n",
    "    cv2.waitKey(0)\n",
    "    cv2.destroyAllWindows()\n",
    "\n",
    "lpr('./car7.jpg')\n",
    "    \n",
    "    # 形态学计算\n",
    "#     kernel = np.ones()"
   ]
  }
 ],
 "metadata": {
  "kernelspec": {
   "display_name": "Python 3 (ipykernel)",
   "language": "python",
   "name": "python3"
  },
  "language_info": {
   "codemirror_mode": {
    "name": "ipython",
    "version": 3
   },
   "file_extension": ".py",
   "mimetype": "text/x-python",
   "name": "python",
   "nbconvert_exporter": "python",
   "pygments_lexer": "ipython3",
   "version": "3.7.15"
  }
 },
 "nbformat": 4,
 "nbformat_minor": 5
}
