{
 "cells": [
  {
   "cell_type": "code",
   "execution_count": 12,
   "id": "08540373",
   "metadata": {},
   "outputs": [],
   "source": [
    "import cv2\n",
    "\n",
    "car = cv2.imread('./car3.jpg')\n",
    "gray = cv2.cvtColor(car, code=cv2.COLOR_BGR2GRAY)\n",
    "\n",
    "car_detector = cv2.CascadeClassifier('./haarcascade_car_plate.xml')\n",
    "\n",
    "plates = car_detector.detectMultiScale(gray)\n",
    "\n",
    "for x, y, w, h in plates:\n",
    "    cv2.rectangle(car, pt1=(x, y), pt2=(x+w, y+h), color=[0, 0, 255], thickness=2)\n",
    "\n",
    "cv2.imshow('plate', car)\n",
    "cv2.waitKey(0)\n",
    "cv2.destroyAllWindows()"
   ]
  }
 ],
 "metadata": {
  "kernelspec": {
   "display_name": "Python 3 (ipykernel)",
   "language": "python",
   "name": "python3"
  },
  "language_info": {
   "codemirror_mode": {
    "name": "ipython",
    "version": 3
   },
   "file_extension": ".py",
   "mimetype": "text/x-python",
   "name": "python",
   "nbconvert_exporter": "python",
   "pygments_lexer": "ipython3",
   "version": "3.7.15"
  }
 },
 "nbformat": 4,
 "nbformat_minor": 5
}
