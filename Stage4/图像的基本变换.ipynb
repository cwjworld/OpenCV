{
 "cells": [
  {
   "cell_type": "markdown",
   "metadata": {},
   "source": [
    "# 图像的放大和缩小"
   ]
  },
  {
   "cell_type": "code",
   "execution_count": 10,
   "metadata": {},
   "outputs": [
    {
     "name": "stdout",
     "output_type": "stream",
     "text": [
      "(295, 474, 3)\n",
      "(444, 316, 3)\n",
      "(295, 474, 3)\n"
     ]
    }
   ],
   "source": [
    "import cv2\n",
    "import numpy as np\n",
    "\n",
    "dog = cv2.imread('./dog.jpg')\n",
    "cat = cv2.imread('./cat.jpg')\n",
    "\n",
    "print(dog.shape)\n",
    "print(cat.shape)\n",
    "\n",
    "# 把猫缩放成和狗一样大\n",
    "new_cat = cv2.resize(cat, (474, 295))\n",
    "print(new_cat.shape)\n",
    "\n",
    "# 能hstack融合在一起说明二者的图像尺寸相同\n",
    "cv2.imshow('new_cat', np.hstack((dog, new_cat)))\n",
    "cv2.imshow('cat', cat)\n",
    "\n",
    "cv2.waitKey(0)\n",
    "cv2.destroyAllWindows()"
   ]
  },
  {
   "cell_type": "code",
   "execution_count": 26,
   "metadata": {},
   "outputs": [
    {
     "name": "stdout",
     "output_type": "stream",
     "text": [
      "(480, 640, 3)\n"
     ]
    }
   ],
   "source": [
    "import cv2\n",
    "import numpy as np\n",
    "\n",
    "dog = cv2.imread('./dog.jpg')\n",
    "\n",
    "new_dog1 = cv2.resize(dog, (640, 480), interpolation=cv2.INTER_NEAREST)\n",
    "new_dog2 = cv2.resize(dog, (640, 480), interpolation=cv2.INTER_LINEAR) # 默认效果\n",
    "new_dog3 = cv2.resize(dog, (640, 480), interpolation=cv2.INTER_CUBIC)\n",
    "new_dog4 = cv2.resize(dog, (640, 480), interpolation=cv2.INTER_AREA)\n",
    "\n",
    "# 还可以按照x、y轴的比例进行缩放\n",
    "new_dog5 = cv2.resize(dog, dsize=None, fx = 0.5, fy = 0.5)\n",
    "print(new_dog5.shape)\n",
    "\n",
    "print(new_dog.shape)\n",
    "\n",
    "cv2.imshow('dog', dog)\n",
    "cv2.imshow('new_dog1', new_dog1)\n",
    "cv2.imshow('new_dog2', new_dog2)\n",
    "cv2.imshow('new_dog3', new_dog3)\n",
    "cv2.imshow('new_dog4', new_dog4)\n",
    "cv2.imshow('new_dog5', new_dog5)\n",
    "\n",
    "cv2.waitKey(0)\n",
    "cv2.destroyAllWindows()"
   ]
  },
  {
   "cell_type": "markdown",
   "metadata": {},
   "source": [
    "## 练习"
   ]
  },
  {
   "cell_type": "code",
   "execution_count": 2,
   "metadata": {
    "collapsed": true
   },
   "outputs": [],
   "source": [
    "# 设计一张logo图片\n",
    "# 规划自己的logo放在哪个位置，在添加的位置变成黑色\n",
    "# 利用add方法，把logo和图片叠加到一起\n",
    "\n",
    "import cv2\n",
    "import numpy as np\n",
    "\n",
    "dog = cv2.imread('dog.jpg')\n",
    "\n",
    "# 创建logo\n",
    "logo = np.zeros((200, 200, 3), np.uint8)\n",
    "\n",
    "# 绘制logo\n",
    "logo[20:120, 20:120] = [0, 0, 255]\n",
    "logo[80:180, 80:180] = [0, 255, 0]\n",
    "\n",
    "# 掩码\n",
    "mask = np.zeros((200, 200), np.uint8)\n",
    "mask[20:120, 20:120] = 255\n",
    "mask[80:180, 80:180] = 255\n",
    "\n",
    "# cv2.imshow('mask', mask)\n",
    "m = cv2.bitwise_not(mask)\n",
    "# cv2.imshow('m', m)\n",
    "\n",
    "# 选择图片添加logo的位置\n",
    "roi = dog[0:200, 0:200]\n",
    "\n",
    "# rou与m进行与操作\n",
    "tmp = cv2.bitwise_and(roi, roi, mask=m)\n",
    "# cv2.imshow('tmp', tmp)\n",
    "\n",
    "dst = cv2.add(tmp, logo)\n",
    "\n",
    "# 在图片上面还原\n",
    "dog[:200, :200] = dst\n",
    "\n",
    "# cv2.imshow('dst', dst)\n",
    "\n",
    "# cv2.imshow('logo', logo)\n",
    "cv2.imshow('dog', dog)\n",
    "cv2.waitKey(0)\n",
    "cv2.destroyAllWindows()"
   ]
  },
  {
   "cell_type": "markdown",
   "metadata": {},
   "source": [
    "## 图像的翻转"
   ]
  },
  {
   "cell_type": "code",
   "execution_count": 8,
   "metadata": {
    "collapsed": true
   },
   "outputs": [],
   "source": [
    "# flip\n",
    "import cv2\n",
    "import numpy as np\n",
    "\n",
    "dog = cv2.imread('./dog.jpg')\n",
    "\n",
    "# flip=0表示上下翻转\n",
    "# flip>0表示左右翻转\n",
    "# flip<0表示上下左右翻转\n",
    "new_dog = cv2.flip(dog, 0)\n",
    "# new_dog = dog[::-1,::-1]\n",
    "\n",
    "cv2.imshow('dog', np.hstack((dog, new_dog)))\n",
    "\n",
    "cv2.waitKey(0)\n",
    "cv2.destroyAllWindows()"
   ]
  },
  {
   "cell_type": "markdown",
   "metadata": {},
   "source": [
    "## 图像的旋转"
   ]
  },
  {
   "cell_type": "code",
   "execution_count": 10,
   "metadata": {
    "collapsed": true
   },
   "outputs": [],
   "source": [
    "# rotate\n",
    "import cv2\n",
    "import numpy as np\n",
    "\n",
    "dog = cv2.imread('./dog.jpg')\n",
    "\n",
    "new_dog = cv2.rotate(dog, rotateCode=cv2.ROTATE_90_CLOCKWISE)\n",
    "\n",
    "cv2.imshow('dog', new_dog)\n",
    "\n",
    "cv2.waitKey(0)\n",
    "cv2.destroyAllWindows()"
   ]
  },
  {
   "cell_type": "markdown",
   "metadata": {},
   "source": [
    "## 仿射变换之平移"
   ]
  },
  {
   "cell_type": "code",
   "execution_count": 4,
   "metadata": {},
   "outputs": [],
   "source": [
    "import cv2\n",
    "import numpy as np\n",
    "\n",
    "dog = cv2.imread('./dog.jpg')\n",
    "\n",
    "h, w, ch = dog.shape\n",
    "\n",
    "# 变换矩阵\n",
    "M = np.float32([[1, 0, 200], [0, 1, 0]])\n",
    "\n",
    "# 平移操作\n",
    "# 注意opencv中是先宽度，后高度\n",
    "new_dog = cv2.warpAffine(dog, M, dsize = (w, h))\n",
    "\n",
    "cv2.imshow('dog', new_dog)\n",
    "\n",
    "cv2.waitKey(0)\n",
    "cv2.destroyAllWindows()"
   ]
  },
  {
   "cell_type": "markdown",
   "metadata": {},
   "source": [
    "## 仿射变换之变换矩阵"
   ]
  },
  {
   "cell_type": "code",
   "execution_count": 9,
   "metadata": {},
   "outputs": [],
   "source": [
    "import cv2\n",
    "import numpy as np\n",
    "\n",
    "dog = cv2.imread('./dog.jpg')\n",
    "\n",
    "h, w, ch = dog.shape\n",
    "\n",
    "# 获取变换矩阵\n",
    "# 按逆时针转动\n",
    "M = cv2.getRotationMatrix2D((w/2, h/2), 45, 1)\n",
    "\n",
    "new_dog = cv2.warpAffine(dog, M, (w, h))\n",
    "\n",
    "cv2.imshow('dog', new_dog)\n",
    "\n",
    "cv2.waitKey(0)\n",
    "cv2.destroyAllWindows()"
   ]
  },
  {
   "cell_type": "markdown",
   "metadata": {},
   "source": [
    "## 通过三个点确定变换矩阵"
   ]
  },
  {
   "cell_type": "code",
   "execution_count": 14,
   "metadata": {},
   "outputs": [],
   "source": [
    "import cv2\n",
    "import numpy as np\n",
    "\n",
    "dog = cv2.imread('./dog.jpg')\n",
    "\n",
    "h, w, ch = dog.shape\n",
    "src = np.float32([[100, 100], [200, 100], [200, 300]])\n",
    "dst = np.float32([[100, 150], [360, 200], [280, 120]])\n",
    "# 需要原始图片的三个点坐标，和变换之后的三个对应的坐标\n",
    "M = cv2.getAffineTransform(src, dst)\n",
    "\n",
    "new_dog = cv2.warpAffine(dog, M, (w, h))\n",
    "\n",
    "cv2.imshow('dog', new_dog)\n",
    "\n",
    "cv2.waitKey(0)\n",
    "cv2.destroyAllWindows()"
   ]
  },
  {
   "cell_type": "markdown",
   "metadata": {},
   "source": [
    "## 仿射变换之透视变换"
   ]
  },
  {
   "cell_type": "code",
   "execution_count": 24,
   "metadata": {},
   "outputs": [],
   "source": [
    "import cv2\n",
    "import numpy as np\n",
    "\n",
    "img = cv2.imread('./123.jpg')\n",
    "\n",
    "# 获取变换矩阵\n",
    "# src为原图的四个坐标\n",
    "# dst为变换后的四个坐标\n",
    "h, w, ch = dog.shape\n",
    "src = np.float32([[10, 10], [640, 10], [0, 620], [620, 620]])\n",
    "dst = np.float32([[0, 0], [500, 0], [0, 580], [500, 580]])\n",
    "# 需要原始图片的三个点坐标，和变换之后的三个对应的坐标\n",
    "M = cv2.getPerspectiveTransform(src, dst)\n",
    "\n",
    "# 透视变换\n",
    "new_img = cv2.warpPerspective(img, M, (500, 580))\n",
    "\n",
    "\n",
    "cv2.imshow('img', img)\n",
    "cv2.imshow('new_img', new_img)\n",
    "\n",
    "cv2.waitKey(0)\n",
    "cv2.destroyAllWindows()"
   ]
  }
 ],
 "metadata": {
  "kernelspec": {
   "display_name": "Python 3",
   "language": "python",
   "name": "python3"
  },
  "language_info": {
   "codemirror_mode": {
    "name": "ipython",
    "version": 3
   },
   "file_extension": ".py",
   "mimetype": "text/x-python",
   "name": "python",
   "nbconvert_exporter": "python",
   "pygments_lexer": "ipython3",
   "version": "3.6.7"
  }
 },
 "nbformat": 4,
 "nbformat_minor": 5
}
