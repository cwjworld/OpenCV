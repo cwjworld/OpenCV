{
 "cells": [
  {
   "cell_type": "markdown",
   "id": "ad292c48",
   "metadata": {},
   "source": [
    "### Harris角点检测"
   ]
  },
  {
   "cell_type": "code",
   "execution_count": 10,
   "id": "4115a98f",
   "metadata": {},
   "outputs": [],
   "source": [
    "import cv2\n",
    "import numpy as np\n",
    "\n",
    "img = cv2.imread('./img.jpg')\n",
    "\n",
    "# 变成灰度图片\n",
    "gray = cv2.cvtColor(img, cv2.COLOR_RGB2GRAY)\n",
    "\n",
    "# 角点检测\n",
    "dst = cv2.cornerHarris(gray, blockSize=2, ksize=3, k=0.04)\n",
    "# print(gray.shape)\n",
    "# print(dst)\n",
    "# print(dst.shape)\n",
    "# print(type(dst))\n",
    "\n",
    "# 显示角点\n",
    "# 设置阈值\n",
    "img[dst > (0.2 * dst.max())] = [0, 0, 255]\n",
    "\n",
    "cv2.imshow('img', img)\n",
    "\n",
    "cv2.waitKey(0)\n",
    "cv2.destroyAllWindows()"
   ]
  }
 ],
 "metadata": {
  "kernelspec": {
   "display_name": "Python 3 (ipykernel)",
   "language": "python",
   "name": "python3"
  },
  "language_info": {
   "codemirror_mode": {
    "name": "ipython",
    "version": 3
   },
   "file_extension": ".py",
   "mimetype": "text/x-python",
   "name": "python",
   "nbconvert_exporter": "python",
   "pygments_lexer": "ipython3",
   "version": "3.7.15"
  }
 },
 "nbformat": 4,
 "nbformat_minor": 5
}
