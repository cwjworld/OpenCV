{
 "cells": [
  {
   "cell_type": "markdown",
   "id": "ad292c48",
   "metadata": {},
   "source": [
    "### Harris角点检测"
   ]
  },
  {
   "cell_type": "code",
   "execution_count": 1,
   "id": "4115a98f",
   "metadata": {
    "scrolled": true
   },
   "outputs": [],
   "source": [
    "import cv2\n",
    "import numpy as np\n",
    "\n",
    "img = cv2.imread('./img.jpg')\n",
    "\n",
    "# 变成灰度图片\n",
    "gray = cv2.cvtColor(img, cv2.COLOR_RGB2GRAY)\n",
    "\n",
    "# 角点检测\n",
    "dst = cv2.cornerHarris(gray, blockSize=2, ksize=3, k=0.04)\n",
    "# print(gray.shape)\n",
    "# print(dst)\n",
    "# print(dst.shape)\n",
    "# print(type(dst))\n",
    "\n",
    "# 显示角点\n",
    "# 设置阈值\n",
    "img[dst > (0.2 * dst.max())] = [0, 0, 255]\n",
    "\n",
    "cv2.imshow('img', img)\n",
    "\n",
    "cv2.waitKey(0)\n",
    "cv2.destroyAllWindows()"
   ]
  },
  {
   "cell_type": "markdown",
   "id": "509fb57c",
   "metadata": {},
   "source": [
    "### shi-Tomasi角点检测"
   ]
  },
  {
   "cell_type": "code",
   "execution_count": 3,
   "id": "dd9655e7",
   "metadata": {},
   "outputs": [],
   "source": [
    "import cv2\n",
    "import numpy as np\n",
    "\n",
    "img = cv2.imread('./img.jpg')\n",
    "\n",
    "gray = cv2.cvtColor(img, cv2.COLOR_BGRA2GRAY)\n",
    "\n",
    "corners = cv2.goodFeaturesToTrack(gray, maxCorners=0, qualityLevel=0.01, minDistance=10)\n",
    "# print(corners)\n",
    "\n",
    "corners = np.int0(corners)\n",
    "# img[dst>0.01 * dst.max()]\n",
    "\n",
    "# 画出角点\n",
    "for i in corners:\n",
    "    x, y = i.ravel()\n",
    "    cv2.circle(img, (x, y), 3, (0, 255, 0), -1)\n",
    "\n",
    "cv2.imshow('Shi-Tomasi', img)\n",
    "    \n",
    "cv2.waitKey(0)\n",
    "cv2.destroyAllWindows()"
   ]
  },
  {
   "cell_type": "markdown",
   "id": "7dc585c9",
   "metadata": {},
   "source": [
    "### sift算法使用"
   ]
  },
  {
   "cell_type": "code",
   "execution_count": 6,
   "id": "4e351394",
   "metadata": {
    "collapsed": true
   },
   "outputs": [
    {
     "name": "stdout",
     "output_type": "stream",
     "text": [
      "(< cv2.KeyPoint 000001F993C60EA0>, < cv2.KeyPoint 000001F993C60DB0>, < cv2.KeyPoint 000001F993C60DE0>, < cv2.KeyPoint 000001F993C60C60>, < cv2.KeyPoint 000001F993C60BD0>, < cv2.KeyPoint 000001F993C60C90>, < cv2.KeyPoint 000001F993CC5210>, < cv2.KeyPoint 000001F993CC5240>, < cv2.KeyPoint 000001F993CC53F0>, < cv2.KeyPoint 000001F993CC5180>, < cv2.KeyPoint 000001F993CC5150>, < cv2.KeyPoint 000001F993CC51B0>, < cv2.KeyPoint 000001F993CC51E0>, < cv2.KeyPoint 000001F993CC5480>, < cv2.KeyPoint 000001F993CC54E0>, < cv2.KeyPoint 000001F993CC5510>, < cv2.KeyPoint 000001F993CC5540>, < cv2.KeyPoint 000001F993CC5570>, < cv2.KeyPoint 000001F993CC55A0>, < cv2.KeyPoint 000001F993CC55D0>, < cv2.KeyPoint 000001F993CC5600>, < cv2.KeyPoint 000001F993CC5630>, < cv2.KeyPoint 000001F993CC5330>, < cv2.KeyPoint 000001F993CC5690>, < cv2.KeyPoint 000001F993CC56C0>, < cv2.KeyPoint 000001F993CC53C0>, < cv2.KeyPoint 000001F993CC56F0>, < cv2.KeyPoint 000001F993CC5390>, < cv2.KeyPoint 000001F993CC5720>, < cv2.KeyPoint 000001F993CC5420>, < cv2.KeyPoint 000001F993CC5750>, < cv2.KeyPoint 000001F993CC5780>, < cv2.KeyPoint 000001F993CC54B0>, < cv2.KeyPoint 000001F993CC57B0>, < cv2.KeyPoint 000001F993CC57E0>, < cv2.KeyPoint 000001F993CC5810>, < cv2.KeyPoint 000001F993CC5840>, < cv2.KeyPoint 000001F993CC5870>, < cv2.KeyPoint 000001F993CC58A0>, < cv2.KeyPoint 000001F993CC5900>, < cv2.KeyPoint 000001F993CC58D0>, < cv2.KeyPoint 000001F993CC5930>, < cv2.KeyPoint 000001F993CC5660>, < cv2.KeyPoint 000001F993CC59F0>, < cv2.KeyPoint 000001F993CC5A50>, < cv2.KeyPoint 000001F993CC5A80>, < cv2.KeyPoint 000001F993CC5AB0>, < cv2.KeyPoint 000001F993CC5AE0>, < cv2.KeyPoint 000001F993CC5B10>, < cv2.KeyPoint 000001F993CC5B40>, < cv2.KeyPoint 000001F993CC5B70>, < cv2.KeyPoint 000001F993CC5BA0>, < cv2.KeyPoint 000001F993CC5BD0>, < cv2.KeyPoint 000001F993CC5C00>, < cv2.KeyPoint 000001F993CC5960>, < cv2.KeyPoint 000001F993CC5300>, < cv2.KeyPoint 000001F993CC5A20>, < cv2.KeyPoint 000001F993CC5450>, < cv2.KeyPoint 000001F993CC5990>, < cv2.KeyPoint 000001F993CC5270>, < cv2.KeyPoint 000001F993CC59C0>, < cv2.KeyPoint 000001F993CC52D0>, < cv2.KeyPoint 000001F993DAF900>, < cv2.KeyPoint 000001F993DAF600>, < cv2.KeyPoint 000001F993DAF930>, < cv2.KeyPoint 000001F993DAF960>, < cv2.KeyPoint 000001F993DAF990>, < cv2.KeyPoint 000001F993DAF9C0>, < cv2.KeyPoint 000001F993DAF9F0>, < cv2.KeyPoint 000001F993DAFA20>, < cv2.KeyPoint 000001F993DAFA50>, < cv2.KeyPoint 000001F993DAFA80>, < cv2.KeyPoint 000001F993DAFAB0>, < cv2.KeyPoint 000001F993DAFAE0>, < cv2.KeyPoint 000001F993DAFB10>, < cv2.KeyPoint 000001F993DAFBD0>, < cv2.KeyPoint 000001F993DAFCC0>, < cv2.KeyPoint 000001F993DAFD50>, < cv2.KeyPoint 000001F993DAFDB0>, < cv2.KeyPoint 000001F993DAFDE0>, < cv2.KeyPoint 000001F993DAFE10>, < cv2.KeyPoint 000001F993DAF1E0>, < cv2.KeyPoint 000001F993DAFE70>, < cv2.KeyPoint 000001F993DAFEA0>, < cv2.KeyPoint 000001F993DAFED0>, < cv2.KeyPoint 000001F993DAF2A0>, < cv2.KeyPoint 000001F993DAFF30>, < cv2.KeyPoint 000001F993DAFF90>, < cv2.KeyPoint 000001F993DAFE40>, < cv2.KeyPoint 000001F993DAFC90>, < cv2.KeyPoint 000001F993DAFF00>, < cv2.KeyPoint 000001F993DAFC00>, < cv2.KeyPoint 000001F993DAFF60>, < cv2.KeyPoint 000001F993DAFD20>, < cv2.KeyPoint 000001F993DAFC30>, < cv2.KeyPoint 000001F993DAFFC0>, < cv2.KeyPoint 000001F993DAFD80>, < cv2.KeyPoint 000001F993DAFC60>, < cv2.KeyPoint 000001F993DAFBA0>, < cv2.KeyPoint 000001F993DAFCF0>, < cv2.KeyPoint 000001F993DAFB40>, < cv2.KeyPoint 000001F993DAFB70>, < cv2.KeyPoint 000001F993CB1030>, < cv2.KeyPoint 000001F993CB1060>, < cv2.KeyPoint 000001F993CB1090>, < cv2.KeyPoint 000001F993CB10C0>, < cv2.KeyPoint 000001F993CB10F0>, < cv2.KeyPoint 000001F993CB1120>, < cv2.KeyPoint 000001F993CB1150>, < cv2.KeyPoint 000001F993CB1180>, < cv2.KeyPoint 000001F993CB11B0>, < cv2.KeyPoint 000001F993CB11E0>, < cv2.KeyPoint 000001F993CB1210>, < cv2.KeyPoint 000001F993CB1240>, < cv2.KeyPoint 000001F993CB1270>, < cv2.KeyPoint 000001F993CB12A0>, < cv2.KeyPoint 000001F993CB12D0>, < cv2.KeyPoint 000001F993CB1300>, < cv2.KeyPoint 000001F993CB1330>, < cv2.KeyPoint 000001F993CB1360>, < cv2.KeyPoint 000001F993CB1390>, < cv2.KeyPoint 000001F993CB13C0>, < cv2.KeyPoint 000001F993CB13F0>, < cv2.KeyPoint 000001F993CB1420>, < cv2.KeyPoint 000001F993CB1450>, < cv2.KeyPoint 000001F993CB1480>, < cv2.KeyPoint 000001F993CB14B0>, < cv2.KeyPoint 000001F993CB14E0>, < cv2.KeyPoint 000001F993CB1510>, < cv2.KeyPoint 000001F993CB1540>, < cv2.KeyPoint 000001F993CB1570>, < cv2.KeyPoint 000001F993CB15A0>, < cv2.KeyPoint 000001F993CB15D0>, < cv2.KeyPoint 000001F993CB1600>, < cv2.KeyPoint 000001F993CB1630>, < cv2.KeyPoint 000001F993CB1660>, < cv2.KeyPoint 000001F993CB1690>, < cv2.KeyPoint 000001F993CB16C0>, < cv2.KeyPoint 000001F993CB16F0>, < cv2.KeyPoint 000001F993CB1720>, < cv2.KeyPoint 000001F993CB1750>, < cv2.KeyPoint 000001F993CB1780>, < cv2.KeyPoint 000001F993CB17B0>, < cv2.KeyPoint 000001F993CB17E0>, < cv2.KeyPoint 000001F993CB1810>, < cv2.KeyPoint 000001F993CB1840>, < cv2.KeyPoint 000001F993CB1870>, < cv2.KeyPoint 000001F993CB18A0>, < cv2.KeyPoint 000001F993CB18D0>, < cv2.KeyPoint 000001F993CB1900>, < cv2.KeyPoint 000001F993CB1930>, < cv2.KeyPoint 000001F993CB1960>, < cv2.KeyPoint 000001F993CB1990>, < cv2.KeyPoint 000001F993CB19C0>, < cv2.KeyPoint 000001F993CB19F0>, < cv2.KeyPoint 000001F993CB1A20>, < cv2.KeyPoint 000001F993CB1A50>, < cv2.KeyPoint 000001F993CB1A80>, < cv2.KeyPoint 000001F993CB1AB0>, < cv2.KeyPoint 000001F993CB1AE0>, < cv2.KeyPoint 000001F993CB1B10>, < cv2.KeyPoint 000001F993CB1B40>, < cv2.KeyPoint 000001F993CB1B70>, < cv2.KeyPoint 000001F993CB1BA0>, < cv2.KeyPoint 000001F993CB1BD0>, < cv2.KeyPoint 000001F993CB1C00>, < cv2.KeyPoint 000001F993CB1C30>, < cv2.KeyPoint 000001F993CB1C60>, < cv2.KeyPoint 000001F993CB1C90>, < cv2.KeyPoint 000001F993CB1CC0>, < cv2.KeyPoint 000001F993CB1CF0>, < cv2.KeyPoint 000001F993CB1D20>, < cv2.KeyPoint 000001F993CB1D50>, < cv2.KeyPoint 000001F993CB1D80>, < cv2.KeyPoint 000001F993CB1DB0>, < cv2.KeyPoint 000001F993CB1DE0>, < cv2.KeyPoint 000001F993CB1E10>, < cv2.KeyPoint 000001F993CB1E40>, < cv2.KeyPoint 000001F993CB1E70>, < cv2.KeyPoint 000001F993CB1EA0>, < cv2.KeyPoint 000001F993CB1ED0>, < cv2.KeyPoint 000001F993CB1F00>, < cv2.KeyPoint 000001F993CB1F30>, < cv2.KeyPoint 000001F993CB1F60>, < cv2.KeyPoint 000001F993CB1F90>, < cv2.KeyPoint 000001F993CB1FC0>, < cv2.KeyPoint 000001F993DB0030>, < cv2.KeyPoint 000001F993DB0060>, < cv2.KeyPoint 000001F993DB0090>, < cv2.KeyPoint 000001F993DB00C0>, < cv2.KeyPoint 000001F993DB00F0>, < cv2.KeyPoint 000001F993DB0120>, < cv2.KeyPoint 000001F993DB0150>, < cv2.KeyPoint 000001F993DB0180>, < cv2.KeyPoint 000001F993DB01B0>, < cv2.KeyPoint 000001F993DB01E0>, < cv2.KeyPoint 000001F993DB0210>, < cv2.KeyPoint 000001F993DB0240>, < cv2.KeyPoint 000001F993DB0270>, < cv2.KeyPoint 000001F993DB02A0>, < cv2.KeyPoint 000001F993DB02D0>, < cv2.KeyPoint 000001F993DB0300>, < cv2.KeyPoint 000001F993DB0330>, < cv2.KeyPoint 000001F993DB0360>, < cv2.KeyPoint 000001F993DB0390>, < cv2.KeyPoint 000001F993DB03C0>, < cv2.KeyPoint 000001F993DB03F0>, < cv2.KeyPoint 000001F993DB0420>, < cv2.KeyPoint 000001F993DB0450>, < cv2.KeyPoint 000001F993DB0480>, < cv2.KeyPoint 000001F993DB04B0>, < cv2.KeyPoint 000001F993DB04E0>, < cv2.KeyPoint 000001F993DB0510>, < cv2.KeyPoint 000001F993DB0540>, < cv2.KeyPoint 000001F993DB0570>, < cv2.KeyPoint 000001F993DB05A0>, < cv2.KeyPoint 000001F993DB05D0>, < cv2.KeyPoint 000001F993DB0600>, < cv2.KeyPoint 000001F993DB0630>, < cv2.KeyPoint 000001F993DB0660>, < cv2.KeyPoint 000001F993DB0690>, < cv2.KeyPoint 000001F993DB06C0>, < cv2.KeyPoint 000001F993DB06F0>, < cv2.KeyPoint 000001F993DB0720>, < cv2.KeyPoint 000001F993DB0750>, < cv2.KeyPoint 000001F993DB0780>, < cv2.KeyPoint 000001F993DB07B0>, < cv2.KeyPoint 000001F993DB07E0>, < cv2.KeyPoint 000001F993DB0810>, < cv2.KeyPoint 000001F993DB0840>, < cv2.KeyPoint 000001F993DB0870>, < cv2.KeyPoint 000001F993DB08A0>, < cv2.KeyPoint 000001F993DB08D0>, < cv2.KeyPoint 000001F993DB0900>, < cv2.KeyPoint 000001F993DB0930>, < cv2.KeyPoint 000001F993DB0960>, < cv2.KeyPoint 000001F993DB0990>, < cv2.KeyPoint 000001F993DB09C0>, < cv2.KeyPoint 000001F993DB09F0>, < cv2.KeyPoint 000001F993DB0A20>, < cv2.KeyPoint 000001F993DB0A50>, < cv2.KeyPoint 000001F993DB0A80>, < cv2.KeyPoint 000001F993DB0AB0>, < cv2.KeyPoint 000001F993DB0AE0>, < cv2.KeyPoint 000001F993DB0B10>, < cv2.KeyPoint 000001F993DB0B40>, < cv2.KeyPoint 000001F993DB0B70>, < cv2.KeyPoint 000001F993DB0BA0>, < cv2.KeyPoint 000001F993DB0BD0>, < cv2.KeyPoint 000001F993DB0C00>, < cv2.KeyPoint 000001F993DB0C30>, < cv2.KeyPoint 000001F993DB0C60>, < cv2.KeyPoint 000001F993DB0C90>, < cv2.KeyPoint 000001F993DB0CC0>, < cv2.KeyPoint 000001F993DB0CF0>, < cv2.KeyPoint 000001F993DB0D20>, < cv2.KeyPoint 000001F993DB0D50>, < cv2.KeyPoint 000001F993DB0D80>, < cv2.KeyPoint 000001F993DB0DB0>, < cv2.KeyPoint 000001F993DB0DE0>, < cv2.KeyPoint 000001F993DB0E10>, < cv2.KeyPoint 000001F993DB0E40>, < cv2.KeyPoint 000001F993DB0E70>, < cv2.KeyPoint 000001F993DB0EA0>, < cv2.KeyPoint 000001F993DB0ED0>, < cv2.KeyPoint 000001F993DB0F00>, < cv2.KeyPoint 000001F993DB0F30>, < cv2.KeyPoint 000001F993DB0F60>, < cv2.KeyPoint 000001F993DB0F90>, < cv2.KeyPoint 000001F993DB0FC0>, < cv2.KeyPoint 000001F993DB1030>, < cv2.KeyPoint 000001F993DB1060>, < cv2.KeyPoint 000001F993DB1090>, < cv2.KeyPoint 000001F993DB10C0>, < cv2.KeyPoint 000001F993DB10F0>, < cv2.KeyPoint 000001F993DB1120>, < cv2.KeyPoint 000001F993DB1150>, < cv2.KeyPoint 000001F993DB1180>, < cv2.KeyPoint 000001F993DB11B0>, < cv2.KeyPoint 000001F993DB11E0>, < cv2.KeyPoint 000001F993DB1210>, < cv2.KeyPoint 000001F993DB1240>, < cv2.KeyPoint 000001F993DB1270>, < cv2.KeyPoint 000001F993DB12A0>, < cv2.KeyPoint 000001F993DB12D0>, < cv2.KeyPoint 000001F993DB1300>, < cv2.KeyPoint 000001F993DB1330>, < cv2.KeyPoint 000001F993DB1360>, < cv2.KeyPoint 000001F993DB1390>, < cv2.KeyPoint 000001F993DB13C0>, < cv2.KeyPoint 000001F993DB13F0>, < cv2.KeyPoint 000001F993DB1420>, < cv2.KeyPoint 000001F993DB1450>, < cv2.KeyPoint 000001F993DB1480>, < cv2.KeyPoint 000001F993DB14B0>, < cv2.KeyPoint 000001F993DB14E0>, < cv2.KeyPoint 000001F993DB1510>, < cv2.KeyPoint 000001F993DB1540>, < cv2.KeyPoint 000001F993DB1570>, < cv2.KeyPoint 000001F993DB15A0>, < cv2.KeyPoint 000001F993DB15D0>, < cv2.KeyPoint 000001F993DB1600>, < cv2.KeyPoint 000001F993DB1630>, < cv2.KeyPoint 000001F993DB1660>, < cv2.KeyPoint 000001F993DB1690>, < cv2.KeyPoint 000001F993DB16C0>, < cv2.KeyPoint 000001F993DB16F0>, < cv2.KeyPoint 000001F993DB1720>, < cv2.KeyPoint 000001F993DB1750>, < cv2.KeyPoint 000001F993DB1780>, < cv2.KeyPoint 000001F993DB17B0>, < cv2.KeyPoint 000001F993DB17E0>, < cv2.KeyPoint 000001F993DB1810>, < cv2.KeyPoint 000001F993DB1840>, < cv2.KeyPoint 000001F993DB1870>, < cv2.KeyPoint 000001F993DB18A0>, < cv2.KeyPoint 000001F993DB18D0>)\n"
     ]
    }
   ],
   "source": [
    "import cv2\n",
    "import numpy as np\n",
    "\n",
    "img = cv2.imread('./img.jpg')\n",
    "\n",
    "gray = cv2.cvtColor(img, cv2.COLOR_BGRA2GRAY)\n",
    "\n",
    "# 创建sift对象\n",
    "sift = cv2.SIFT_create()\n",
    "    \n",
    "# 进行检测\n",
    "kp = sift.detect(gray)\n",
    "print(kp)\n",
    "\n",
    "# 绘制关键点\n",
    "cv2.drawKeypoints(gray, kp, img)\n",
    "\n",
    "cv2.imshow('img', img)\n",
    "    \n",
    "cv2.waitKey(0)\n",
    "cv2.destroyAllWindows()"
   ]
  },
  {
   "cell_type": "markdown",
   "id": "eff02b22",
   "metadata": {},
   "source": [
    "### 计算描述值"
   ]
  },
  {
   "cell_type": "code",
   "execution_count": 11,
   "id": "ced49ac6",
   "metadata": {},
   "outputs": [
    {
     "name": "stdout",
     "output_type": "stream",
     "text": [
      "317\n",
      "<class 'numpy.ndarray'>\n",
      "(317, 128)\n",
      "[  0.   0.  30.   3.   0.   0.   0.   0.   1.   2.  74.   6.   0.   0.\n",
      "   5.   4.   0.   0.  67.   8.   0.   0.  26.   4.   0.   0.  58.   6.\n",
      "   0.   0.  35.   4.  21.   5.  44.   3.   0.   0.   0.   4. 133.  10.\n",
      "  72.   5.   0.   0.  78. 155.  14.   0.  38.   5.   0.   0. 179.  99.\n",
      "   0.   0.  24.   3.   0.   0. 179.  39.  46.   7.   0.   0.   0.   0.\n",
      "   0.   1. 179.  39.   0.   0.   0.   0.  10.  48. 112.   7.   0.   0.\n",
      "   0.   0.  71.  39.   0.   0.   0.   0.   0.   0.  58.   7.  29.   3.\n",
      "   0.   0.   0.   0.   0.   0. 179.  44.   0.   0.   0.   0.   0.   0.\n",
      " 131.  14.   0.   0.   0.   0.   0.   0.   0.   0.   0.   0.   0.   0.\n",
      "   0.   0.]\n"
     ]
    }
   ],
   "source": [
    "import cv2\n",
    "import numpy as np\n",
    "\n",
    "img = cv2.imread('./img.jpg')\n",
    "\n",
    "gray = cv2.cvtColor(img, cv2.COLOR_BGRA2GRAY)\n",
    "\n",
    "# 创建sift对象\n",
    "sift = cv2.SIFT_create()\n",
    "    \n",
    "# 进行检测\n",
    "kp = sift.detect(gray)\n",
    "\n",
    "# 计算描述子\n",
    "kp, des = sift.compute(gray, kp)\n",
    "print(len(kp))\n",
    "print(type(des))\n",
    "print(des.shape)\n",
    "print(des[0])\n",
    "\n",
    "# 绘制关键点\n",
    "cv2.drawKeypoints(gray, kp, img)\n",
    "\n",
    "cv2.imshow('img', img)\n",
    "    \n",
    "cv2.waitKey(0)\n",
    "cv2.destroyAllWindows()"
   ]
  },
  {
   "cell_type": "code",
   "execution_count": null,
   "id": "f73a3df1",
   "metadata": {},
   "outputs": [],
   "source": []
  }
 ],
 "metadata": {
  "kernelspec": {
   "display_name": "Python 3 (ipykernel)",
   "language": "python",
   "name": "python3"
  },
  "language_info": {
   "codemirror_mode": {
    "name": "ipython",
    "version": 3
   },
   "file_extension": ".py",
   "mimetype": "text/x-python",
   "name": "python",
   "nbconvert_exporter": "python",
   "pygments_lexer": "ipython3",
   "version": "3.7.15"
  }
 },
 "nbformat": 4,
 "nbformat_minor": 5
}
