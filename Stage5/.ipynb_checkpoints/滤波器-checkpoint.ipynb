{
 "cells": [
  {
   "cell_type": "markdown",
   "metadata": {},
   "source": [
    "## 卷积"
   ]
  },
  {
   "cell_type": "code",
   "execution_count": 18,
   "metadata": {},
   "outputs": [],
   "source": [
    "# opencv图像卷积操作\n",
    "import cv2\n",
    "import numpy as np\n",
    "\n",
    "img = cv2.imread('./Dunk.jpg')\n",
    "\n",
    "kernel = np.ones((5, 5), np.float32) / 25\n",
    "# 尝试其他卷积核\n",
    "# 突出轮廓\n",
    "# kernel = np.array([[-1, -1, -1], [-1, 8, -1], [-1, -1, -1]])\n",
    "\n",
    "# 锐化\n",
    "# kernel = np.array([[0, -1, 0], [-1, 5, -1], [0, -1, 0]])\n",
    "\n",
    "new_img = cv2.resize(img, (480, 300))\n",
    "\n",
    "# 卷积操作\n",
    "dst = cv2.filter2D(new_img, -1, kernel)\n",
    "\n",
    "cv2.imshow('img', np.hstack((new_img, dst)))\n",
    "\n",
    "cv2.waitKey(0)\n",
    "cv2.destroyAllWindows()"
   ]
  },
  {
   "cell_type": "code",
   "execution_count": null,
   "metadata": {
    "collapsed": true
   },
   "outputs": [],
   "source": []
  }
 ],
 "metadata": {
  "kernelspec": {
   "display_name": "Python 3",
   "language": "python",
   "name": "python3"
  },
  "language_info": {
   "codemirror_mode": {
    "name": "ipython",
    "version": 3
   },
   "file_extension": ".py",
   "mimetype": "text/x-python",
   "name": "python",
   "nbconvert_exporter": "python",
   "pygments_lexer": "ipython3",
   "version": "3.6.7"
  }
 },
 "nbformat": 4,
 "nbformat_minor": 2
}
