{
 "cells": [
  {
   "cell_type": "markdown",
   "metadata": {},
   "source": [
    "## 卷积操作"
   ]
  },
  {
   "cell_type": "code",
   "execution_count": null,
   "metadata": {
    "collapsed": true
   },
   "outputs": [],
   "source": [
    "import cv2\n",
    "import numpy as np\n",
    "\n",
    "img = cv2.imread('./Dunk.jpg')\n",
    "\n",
    "kernel = np.ones((5, 5), np.float32) / 25\n",
    "# 尝试其他卷积核\n",
    "# 突出轮廓\n",
    "# kernel = np.array([[-1, -1, -1], [-1, 8, -1], [-1, -1, -1]])\n",
    "\n",
    "# 锐化\n",
    "# kernel = np.array([[0, -1, 0], [-1, 5, -1], [0, -1, 0]])\n",
    "\n",
    "new_img = cv2.resize(img, (480, 300))\n",
    "\n",
    "# 卷积操作\n",
    "dst = cv2.filter2D(new_img, -1, kernel)\n",
    "\n",
    "cv2.imshow('img', np.hstack((new_img, dst)))\n",
    "\n",
    "cv2.waitKey(0)\n",
    "cv2.destroyAllWindows()"
   ]
  },
  {
   "cell_type": "markdown",
   "metadata": {},
   "source": [
    "## 方盒滤波"
   ]
  },
  {
   "cell_type": "code",
   "execution_count": null,
   "metadata": {
    "collapsed": true
   },
   "outputs": [],
   "source": [
    "import cv2\n",
    "import numpy as np\n",
    "\n",
    "img = cv2.imread('./Dunk.jpg')\n",
    "\n",
    "new_img = cv2.resize(img, (480, 300))\n",
    "\n",
    "dst = cv2.boxFilter(new_img, -1, (5, 5), normalize=True)\n",
    "\n",
    "cv2.imshow('img', np.hstack((new_img, dst)))\n",
    "\n",
    "cv2.waitKey(0)\n",
    "cv2.destroyAllWindows()"
   ]
  },
  {
   "cell_type": "markdown",
   "metadata": {},
   "source": [
    "## 均值滤波"
   ]
  },
  {
   "cell_type": "code",
   "execution_count": null,
   "metadata": {
    "collapsed": true
   },
   "outputs": [],
   "source": [
    "import cv2\n",
    "import numpy as np\n",
    "\n",
    "img = cv2.imread('./Dunk.jpg')\n",
    "\n",
    "new_img = cv2.resize(img, (480, 300))\n",
    "\n",
    "# 均值滤波没有位深这个参数ddepth\n",
    "dst = cv2.blur(new_img, (5, 5))\n",
    "\n",
    "cv2.imshow('img', np.hstack((new_img, dst)))\n",
    "\n",
    "cv2.waitKey(0)\n",
    "cv2.destroyAllWindows()"
   ]
  },
  {
   "cell_type": "markdown",
   "metadata": {},
   "source": [
    "## 高斯滤波"
   ]
  },
  {
   "cell_type": "markdown",
   "metadata": {},
   "source": [
    "<font size=5>$G(x, y) = \\frac{1}{2 \\pi \\sigma^2}e^{-\\frac{x^2 + y^2}{2\\sigma^2}}$</font>"
   ]
  },
  {
   "cell_type": "code",
   "execution_count": 15,
   "metadata": {},
   "outputs": [
    {
     "name": "stdout",
     "output_type": "stream",
     "text": [
      "0.0707355302630646\n",
      "0.04535423476987057\n"
     ]
    }
   ],
   "source": [
    "# 计算（0， 0）坐标点对应的值\n",
    "import numpy as np\n",
    "a = 1 / (2 * np.pi * 1.5 ** 2)\n",
    "\n",
    "# 计算（-1， -1）坐标点对应的值\n",
    "b = 1 / (2 * np.pi * 1.5 ** 2)* np.exp(-(2/(2*1.5**2)))\n",
    "\n",
    "print(a)\n",
    "print(b)"
   ]
  },
  {
   "cell_type": "code",
   "execution_count": 25,
   "metadata": {},
   "outputs": [],
   "source": [
    "import cv2\n",
    "import numpy as np\n",
    "\n",
    "img = cv2.imread('./Dunk.jpg')\n",
    "\n",
    "new_img = cv2.resize(img, (480, 300))\n",
    "dst = cv2.GaussianBlur(new_img, (5, 5), sigmaX=1)\n",
    "\n",
    "cv2.imshow('new_img', np.hstack((new_img, dst)))\n",
    "cv2.waitKey(0)\n",
    "cv2.destroyAllWindows()"
   ]
  },
  {
   "cell_type": "markdown",
   "metadata": {},
   "source": [
    "## 中值滤波"
   ]
  },
  {
   "cell_type": "code",
   "execution_count": 26,
   "metadata": {},
   "outputs": [],
   "source": [
    "import cv2\n",
    "import numpy as np\n",
    "\n",
    "img = cv2.imread('./Dunk.jpg')\n",
    "\n",
    "new_img = cv2.resize(img, (480, 300))\n",
    "dst = cv2.medianBlur(new_img, 5)\n",
    "\n",
    "cv2.imshow('new_img', np.hstack((new_img, dst)))\n",
    "cv2.waitKey(0)\n",
    "cv2.destroyAllWindows()"
   ]
  },
  {
   "cell_type": "markdown",
   "metadata": {},
   "source": [
    "## 双边滤波"
   ]
  },
  {
   "cell_type": "code",
   "execution_count": 7,
   "metadata": {},
   "outputs": [],
   "source": [
    "# 有美颜效果\n",
    "# 对椒盐噪声几乎没有效果\n",
    "import cv2\n",
    "import numpy as np\n",
    "\n",
    "img = cv2.imread('./lena.jpg')\n",
    "\n",
    "dst = cv2.bilateralFilter(img, 7, sigmaColor=20, sigmaSpace=50)\n",
    "\n",
    "cv2.imshow('img', np.hstack((img, dst)))\n",
    "cv2.waitKey(0)\n",
    "cv2.destroyAllWindows()"
   ]
  },
  {
   "cell_type": "markdown",
   "metadata": {},
   "source": [
    "## Sobel算子"
   ]
  },
  {
   "cell_type": "code",
   "execution_count": 17,
   "metadata": {},
   "outputs": [],
   "source": [
    "import cv2\n",
    "import numpy as np\n",
    "\n",
    "img = cv2.imread('./chess.jpg')\n",
    "\n",
    "# 计算x轴方向的梯度，只有x垂直方向的边缘\n",
    "dx = cv2.Sobel(img, cv2.CV_64F, dx = 1, dy = 0, ksize = 3)\n",
    "\n",
    "# 计算y轴方向的梯度，只有y轴方向的边缘\n",
    "dy = cv2.Sobel(img, cv2.CV_64F, dx = 0, dy = 1, ksize = 3)\n",
    "\n",
    "# 使用Sobel算子，要记得把x、y轴梯度合并在一起\n",
    "dst = cv2.add(dx, dy)\n",
    "\n",
    "cv2.imshow('img', img)\n",
    "cv2.imshow('img1', dx)\n",
    "cv2.imshow('img2', dy)\n",
    "cv2.imshow('img3', dst)\n",
    "\n",
    "cv2.waitKey(0)\n",
    "cv2.destroyAllWindows()"
   ]
  },
  {
   "cell_type": "markdown",
   "metadata": {},
   "source": [
    "## Scharr算子"
   ]
  },
  {
   "cell_type": "code",
   "execution_count": 23,
   "metadata": {},
   "outputs": [],
   "source": [
    "## Scharr只能是3×3的核\n",
    "import cv2\n",
    "import numpy as np\n",
    "\n",
    "img = cv2.imread('./lena.jpg')\n",
    "\n",
    "# 计算x轴方向的梯度，只有x垂直方向的边缘\n",
    "dx = cv2.Scharr(img, cv2.CV_64F, dx = 1, dy = 0)\n",
    "\n",
    "# 计算y轴方向的梯度，只有y轴方向的边缘\n",
    "dy = cv2.Scharr(img, cv2.CV_64F, dx = 0, dy = 1)\n",
    "\n",
    "dst = cv2.addWeighted(dx, 0.5, dy, 0.5, gamma=0)\n",
    "\n",
    "cv2.imshow('img', np.hstack((dx, dy, dst)))\n",
    "\n",
    "cv2.waitKey(0)\n",
    "cv2.destroyAllWindows()"
   ]
  },
  {
   "cell_type": "markdown",
   "metadata": {},
   "source": [
    "## 拉普拉斯算子"
   ]
  },
  {
   "cell_type": "code",
   "execution_count": 27,
   "metadata": {},
   "outputs": [],
   "source": [
    "import cv2\n",
    "import numpy as np\n",
    "\n",
    "img = cv2.imread('./chess.jpg')\n",
    "\n",
    "dst = cv2.Laplacian(img, -1, ksize = 3)\n",
    "\n",
    "cv2.imshow('img', np.hstack((img, dst)))\n",
    "\n",
    "cv2.waitKey(0)\n",
    "cv2.destroyAllWindows()"
   ]
  },
  {
   "cell_type": "markdown",
   "metadata": {},
   "source": [
    "## 边缘检测Canny"
   ]
  },
  {
   "cell_type": "code",
   "execution_count": null,
   "metadata": {},
   "outputs": [],
   "source": []
  }
 ],
 "metadata": {
  "kernelspec": {
   "display_name": "Python 3 (ipykernel)",
   "language": "python",
   "name": "python3"
  },
  "language_info": {
   "codemirror_mode": {
    "name": "ipython",
    "version": 3
   },
   "file_extension": ".py",
   "mimetype": "text/x-python",
   "name": "python",
   "nbconvert_exporter": "python",
   "pygments_lexer": "ipython3",
   "version": "3.7.15"
  }
 },
 "nbformat": 4,
 "nbformat_minor": 2
}
