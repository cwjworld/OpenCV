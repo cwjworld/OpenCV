{
 "cells": [
  {
   "cell_type": "markdown",
   "id": "fed57cad",
   "metadata": {},
   "source": [
    "## 色彩空间的转换"
   ]
  },
  {
   "cell_type": "code",
   "execution_count": 8,
   "id": "06c3ec29",
   "metadata": {
    "collapsed": false
   },
   "outputs": [],
   "source": [
    "# 关键的API， cv2、cavtColor\n",
    "import cv2\n",
    "\n",
    "\n",
    "def callback(value):\n",
    "    pass\n",
    "\n",
    "\n",
    "cv2.namedWindow('color', cv2.WINDOW_NORMAL)\n",
    "cv2.resizeWindow('color', 640, 480)\n",
    "\n",
    "# 读取照片\n",
    "img = cv2.imread('./Dunk.jpg')\n",
    "\n",
    "# 定义颜色空间转化列表\n",
    "color_spaces = [\n",
    "    cv2.COLOR_BGR2RGBA, cv2.COLOR_BGR2BGRA,\n",
    "    cv2.COLOR_BGR2GRAY, cv2.COLOR_BGR2HSV,\n",
    "    cv2.COLOR_BGR2YUV\n",
    "]\n",
    "\n",
    "# 设置trackbar\n",
    "cv2.createTrackbar('trackbar', 'color', 0, 4, callback)\n",
    "\n",
    "while True:\n",
    "    # 获取当前Trackabr的值\n",
    "    index = cv2.getTrackbarPos('trackbar', 'color')\n",
    "    \n",
    "    # 进行空间颜色转化\n",
    "    cvt_img = cv2.cvtColor(img, color_spaces[index])\n",
    "    cv2.imshow('color', cvt_img)\n",
    "    key = cv2.waitKey(10)\n",
    "    if key == ord('q'):\n",
    "        break\n",
    "    \n",
    "cv2.destroyAllWindows()"
   ]
  },
  {
   "cell_type": "markdown",
   "id": "746d217c",
   "metadata": {},
   "source": [
    "## 图像通道的分离与合并\n"
   ]
  },
  {
   "cell_type": "code",
   "execution_count": 13,
   "id": "8bde3c19",
   "metadata": {
    "collapsed": false
   },
   "outputs": [],
   "source": [
    "import cv2\n",
    "import numpy as np\n",
    "\n",
    "img = np.zeros((200, 200, 3), np.uint8)\n",
    "\n",
    "# 分割通道\n",
    "b, g, r = cv2.split(img)\n",
    "# 修改颜色\n",
    "b[10:100, 10:100] = 255\n",
    "g[10:100, 10:100] = 255\n",
    "\n",
    "# 合并通道\n",
    "img2 = cv2.merge((b, g, r))\n",
    "\n",
    "cv2.imshow('img', np.hstack((b, g)))\n",
    "cv2.imshow('img2', np.hstack((img, img2)))\n",
    "\n",
    "cv2.waitKey(0)\n",
    "cv2.destroyAllWindows()"
   ]
  },
  {
   "cell_type": "code",
   "execution_count": null,
   "id": "b59c7f11",
   "metadata": {
    "collapsed": true
   },
   "outputs": [],
   "source": []
  }
 ],
 "metadata": {
  "kernelspec": {
   "display_name": "Python 3",
   "language": "python",
   "name": "python3"
  },
  "language_info": {
   "codemirror_mode": {
    "name": "ipython",
    "version": 3
   },
   "file_extension": ".py",
   "mimetype": "text/x-python",
   "name": "python",
   "nbconvert_exporter": "python",
   "pygments_lexer": "ipython3",
   "version": "3.6.7"
  }
 },
 "nbformat": 4,
 "nbformat_minor": 5
}
