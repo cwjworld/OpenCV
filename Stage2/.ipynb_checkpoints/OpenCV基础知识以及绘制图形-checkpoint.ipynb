{
 "cells": [
  {
   "cell_type": "markdown",
   "id": "8f9c0666",
   "metadata": {
    "deletable": true,
    "editable": true
   },
   "source": [
    "## 色彩空间的转换"
   ]
  },
  {
   "cell_type": "code",
   "execution_count": 8,
   "id": "a8611643",
   "metadata": {
    "collapsed": false,
    "deletable": true,
    "editable": true
   },
   "outputs": [],
   "source": [
    "# 关键的API， cv2、cavtColor\n",
    "import cv2\n",
    "\n",
    "\n",
    "def callback(value):\n",
    "    pass\n",
    "\n",
    "\n",
    "cv2.namedWindow('color', cv2.WINDOW_NORMAL)\n",
    "cv2.resizeWindow('color', 640, 480)\n",
    "\n",
    "# 读取照片\n",
    "img = cv2.imread('./Dunk.jpg')\n",
    "\n",
    "# 定义颜色空间转化列表\n",
    "color_spaces = [\n",
    "    cv2.COLOR_BGR2RGBA, cv2.COLOR_BGR2BGRA,\n",
    "    cv2.COLOR_BGR2GRAY, cv2.COLOR_BGR2HSV,\n",
    "    cv2.COLOR_BGR2YUV\n",
    "]\n",
    "\n",
    "# 设置trackbar\n",
    "cv2.createTrackbar('trackbar', 'color', 0, 4, callback)\n",
    "\n",
    "while True:\n",
    "    # 获取当前Trackabr的值\n",
    "    index = cv2.getTrackbarPos('trackbar', 'color')\n",
    "    \n",
    "    # 进行空间颜色转化\n",
    "    cvt_img = cv2.cvtColor(img, color_spaces[index])\n",
    "    cv2.imshow('color', cvt_img)\n",
    "    key = cv2.waitKey(10)\n",
    "    if key == ord('q'):\n",
    "        break\n",
    "    \n",
    "cv2.destroyAllWindows()"
   ]
  },
  {
   "cell_type": "markdown",
   "id": "af84b9a9",
   "metadata": {
    "deletable": true,
    "editable": true
   },
   "source": [
    "## 图像通道的分离与合并\n"
   ]
  },
  {
   "cell_type": "code",
   "execution_count": 13,
   "id": "d5c79124",
   "metadata": {
    "collapsed": false,
    "deletable": true,
    "editable": true
   },
   "outputs": [],
   "source": [
    "import cv2\n",
    "import numpy as np\n",
    "\n",
    "img = np.zeros((200, 200, 3), np.uint8)\n",
    "\n",
    "# 分割通道\n",
    "b, g, r = cv2.split(img)\n",
    "# 修改颜色\n",
    "b[10:100, 10:100] = 255\n",
    "g[10:100, 10:100] = 255\n",
    "\n",
    "# 合并通道\n",
    "img2 = cv2.merge((b, g, r))\n",
    "\n",
    "cv2.imshow('img', np.hstack((b, g)))\n",
    "cv2.imshow('img2', np.hstack((img, img2)))\n",
    "\n",
    "cv2.waitKey(0)\n",
    "cv2.destroyAllWindows()"
   ]
  },
  {
   "cell_type": "markdown",
   "id": "b01f9126",
   "metadata": {
    "collapsed": true,
    "deletable": true,
    "editable": true
   },
   "source": [
    "## 绘制图像"
   ]
  },
  {
   "cell_type": "code",
   "execution_count": 5,
   "id": "2ff6f8ea",
   "metadata": {
    "collapsed": false
   },
   "outputs": [],
   "source": [
    "# 绘制各种图形\n",
    "# 直线\n",
    "import cv2\n",
    "import numpy as np\n",
    "\n",
    "img = np.zeros((480,640,3), np.uint8)\n",
    "\n",
    "cv2.line(img, (10, 20), (300, 400), (0,0,255), 5, 4)\n",
    "cv2.line(img, (80, 100), (380, 480), (0,0,255), 5, 16)\n",
    "\n",
    "cv2.imshow('draw', img)\n",
    "cv2.waitKey(0)\n",
    "cv2.destroyAllWindows()"
   ]
  },
  {
   "cell_type": "code",
   "execution_count": 7,
   "id": "cb840351",
   "metadata": {
    "collapsed": false
   },
   "outputs": [],
   "source": [
    "# 矩形\n",
    "import cv2\n",
    "import numpy as np\n",
    "\n",
    "img = np.zeros((480,640,3), np.uint8)\n",
    "\n",
    "cv2.rectangle(img, (80, 100), (380, 380), (0,255,0), 5)\n",
    "\n",
    "cv2.imshow('draw', img)\n",
    "cv2.waitKey(0)\n",
    "cv2.destroyAllWindows()"
   ]
  },
  {
   "cell_type": "code",
   "execution_count": 11,
   "id": "2118981e",
   "metadata": {
    "collapsed": true
   },
   "outputs": [],
   "source": [
    "# 圆形\n",
    "import cv2\n",
    "import numpy as np\n",
    "\n",
    "img = np.zeros((480,640,3), np.uint8)\n",
    "\n",
    "# 传圆心坐标和半径大小\n",
    "cv2.circle(img, (320, 240), 50, (0, 0, 255), 5, 16)\n",
    "\n",
    "cv2.imshow('draw', img)\n",
    "cv2.waitKey(0)\n",
    "cv2.destroyAllWindows()"
   ]
  },
  {
   "cell_type": "code",
   "execution_count": 20,
   "id": "5c7c6c9e",
   "metadata": {
    "collapsed": true
   },
   "outputs": [],
   "source": [
    "# 椭圆\n",
    "import cv2\n",
    "import numpy as np\n",
    "\n",
    "img = np.zeros((480,640,3), np.uint8)\n",
    "\n",
    "# 传圆心坐标和半径大小\n",
    "cv2.ellipse(img,(320, 240), (100,50), 0, 0, 360,(0, 0, 255), 5, 16)\n",
    "\n",
    "cv2.imshow('draw', img)\n",
    "cv2.waitKey(0)\n",
    "cv2.destroyAllWindows()"
   ]
  },
  {
   "cell_type": "code",
   "execution_count": 16,
   "id": "03c6910f",
   "metadata": {
    "collapsed": false
   },
   "outputs": [],
   "source": [
    "# 多边形\n",
    "import cv2\n",
    "import numpy as np\n",
    "\n",
    "img = np.zeros((480,640,3), np.uint8)\n",
    "\n",
    "pts = np.array([(250,100), (150,300), (50, 280)], np.int32)\n",
    "# 注意pts是3维的\n",
    "cv2.polylines(img, [pts], True, (0, 0, 255), 5)\n",
    "\n",
    "pts2 = np.array([(400,100), (450,200), (200, 50)], np.int32)\n",
    "# 填充多边形\n",
    "cv2.fillPoly(img, [pts2], (0, 0, 255))\n",
    "\n",
    "cv2.imshow('draw', img)\n",
    "cv2.waitKey(0)\n",
    "cv2.destroyAllWindows()"
   ]
  },
  {
   "cell_type": "code",
   "execution_count": 6,
   "id": "07840bb5",
   "metadata": {
    "collapsed": false
   },
   "outputs": [],
   "source": [
    "# 绘制文本及中文文本\n",
    "import cv2\n",
    "import numpy as np \n",
    "\n",
    "img = np.zeros((480,640,3), np.uint8)\n",
    "\n",
    "cv2.putText(img, 'Hello OpenCV', (50, 400), cv2.FONT_HERSHEY_COMPLEX, 2, (0, 0, 255))\n",
    "\n",
    "cv2.imshow('draw', img)\n",
    "cv2.waitKey(0)\n",
    "cv2.destroyAllWindows()"
   ]
  },
  {
   "cell_type": "code",
   "execution_count": 17,
   "id": "bf5d3520",
   "metadata": {
    "collapsed": false
   },
   "outputs": [],
   "source": [
    "# 使用OpenCV绘制中文（曲线救国）\n",
    "import cv2\n",
    "import numpy as np\n",
    "from PIL import ImageFont, ImageDraw, Image\n",
    "\n",
    "# 纯白\n",
    "img = np.full((500, 500, 3), fill_value=255, dtype=np.uint8)\n",
    "\n",
    "# 导入字体文件\n",
    "font = ImageFont.truetype('./STHUPO.TTF', 35)\n",
    "\n",
    "# 创建一个pillow的图片\n",
    "img_pil = Image.fromarray(img)\n",
    "\n",
    "draw = ImageDraw.Draw(img_pil)\n",
    "\n",
    "# 利用draw绘制中文\n",
    "draw.text((100, 250), '永远跟党走', font=font, fill=(0, 0, 255, 0))\n",
    "\n",
    "# 新变回ndarray\n",
    "img = np.array(img_pil)\n",
    "\n",
    "cv2.imshow('img', img)\n",
    "cv2.waitKey(0)\n",
    "cv2.destroyAllWindows()"
   ]
  },
  {
   "cell_type": "code",
   "execution_count": 5,
   "id": "2e92e982",
   "metadata": {
    "collapsed": false
   },
   "outputs": [],
   "source": [
    "# 小练习\n",
    "# 按下l，拖动鼠标，可以绘制直线\n",
    "# 按下r，拖动鼠标，可以绘制矩形\n",
    "# 按下c，拖动鼠标，可以绘制圆，拖动的长度可以作为半径\n",
    "\n",
    "import cv2\n",
    "import numpy as np \n",
    "\n",
    "# 全局标志，判断要画什么类型的图\n",
    "curshape = 0\n",
    "startpos = (0, 0)\n",
    "\n",
    "img = np.zeros((480,640,3), np.uint8)\n",
    "\n",
    "# 监听鼠标的行为，必须通过鼠标回调函数来实现\n",
    "def mouse_callback(event, x, y, flags, userdata):\n",
    "    # 引入全局变量\n",
    "    global curshape, startpos\n",
    "    if event == cv2.EVENT_LBUTTONDOWN:\n",
    "        # 记录起始位置\n",
    "        startpos = (x, y)\n",
    "    elif event == cv2.EVENT_LBUTTONUP:\n",
    "        # 判断画图的类型\n",
    "        if curshape == 0:\n",
    "            cv2.line(img, startpos, (x, y), (0,0,255), 3)\n",
    "        elif curshape == 1:\n",
    "            cv2.rectangle(img, startpos, (x, y), (0,0,255), 3)\n",
    "        elif curshape == 2:\n",
    "            a = (x - startpos[0])\n",
    "            b = (y - startpos[1])\n",
    "            r = int((a ** 2 + b ** 2) ** 0.5)\n",
    "            cv2.circle(img, startpos, r, (0, 0, 255), 3)\n",
    "        else:\n",
    "            print('暂不支持绘制其他图形')\n",
    "            \n",
    "cv2.namedWindow('drawshape', cv2.WINDOW_NORMAL)\n",
    "cv2.setMouseCallback('drawshape', mouse_callback)\n",
    "    \n",
    "while True:\n",
    "    cv2.imshow('drawshape', img)\n",
    "    key = cv2.waitKey(1)\n",
    "    if key == ord('q'):\n",
    "        break\n",
    "    elif key == ord('l'):\n",
    "        curshape = 0\n",
    "    elif key == ord('r'):\n",
    "        curshape = 1\n",
    "    elif key == ord('c'):\n",
    "        curshape = 2\n",
    "        \n",
    "cv2.destroyAllWindows()"
   ]
  },
  {
   "cell_type": "code",
   "execution_count": null,
   "id": "558c2fe4",
   "metadata": {
    "collapsed": true
   },
   "outputs": [],
   "source": []
  }
 ],
 "metadata": {
  "kernelspec": {
   "display_name": "Python 3",
   "language": "python",
   "name": "python3"
  },
  "language_info": {
   "codemirror_mode": {
    "name": "ipython",
    "version": 3
   },
   "file_extension": ".py",
   "mimetype": "text/x-python",
   "name": "python",
   "nbconvert_exporter": "python",
   "pygments_lexer": "ipython3",
   "version": "3.6.7"
  }
 },
 "nbformat": 4,
 "nbformat_minor": 5
}
