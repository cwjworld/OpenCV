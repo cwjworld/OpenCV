{
 "cells": [
  {
   "cell_type": "markdown",
   "id": "0c090966",
   "metadata": {},
   "source": [
    "### 马赛克"
   ]
  },
  {
   "cell_type": "code",
   "execution_count": 2,
   "id": "ff80df3e",
   "metadata": {},
   "outputs": [],
   "source": [
    "import cv2\n",
    "import numpy as np\n",
    "\n",
    "img = cv2.imread('./bao.jpg')\n",
    "\n",
    "# 马赛克方式一 \n",
    "# img2 = cv2.resize(img, (35, 23))\n",
    "# img3 = cv2.resize(img2, (350, 232))\n",
    "\n",
    "# 马赛克方式二\n",
    "# img2 = cv2.resize(img, (35, 23))\n",
    "# img3 = np.repeat(img2, 10, axis=0)\n",
    "# img4 = np.repeat(img3, 10, axis=1)\n",
    "\n",
    "# 马赛克方式三（伪马赛克）\n",
    "img2 = img[::10, ::10] # 每10个中取一个像素\n",
    "cv2.namedWindow('bao', flags=cv2.WINDOW_NORMAL)\n",
    "cv2.resizeWindow('bao', 350,232)\n",
    "\n",
    "cv2.imshow('bao', img2)\n",
    "\n",
    "cv2.waitKey(0)\n",
    "cv2.destroyAllWindows()"
   ]
  },
  {
   "cell_type": "markdown",
   "id": "84b0a25d",
   "metadata": {},
   "source": [
    "### 图片人脸马赛克"
   ]
  },
  {
   "cell_type": "code",
   "execution_count": 20,
   "id": "5f319ce1",
   "metadata": {
    "scrolled": true
   },
   "outputs": [],
   "source": [
    "import cv2\n",
    "import numpy as np\n",
    "\n",
    "img = cv2.imread('./bao.jpg')\n",
    "\n",
    "face = img[42:164, 145:269]\n",
    "face = face[::10, ::10]\n",
    "face = np.repeat(face, 10, axis=0)\n",
    "face = np.repeat(face, 10, axis=1)\n",
    "img[42:164, 145:269] = face[:122, :124]\n",
    "\n",
    "cv2.imshow('bao', img)\n",
    "\n",
    "cv2.waitKey(0)\n",
    "cv2.destroyAllWindows()"
   ]
  },
  {
   "cell_type": "markdown",
   "id": "883506f8",
   "metadata": {},
   "source": [
    "### 人脸的检测"
   ]
  },
  {
   "cell_type": "code",
   "execution_count": 7,
   "id": "d0801e62",
   "metadata": {},
   "outputs": [],
   "source": [
    "import cv2\n",
    "import numpy as np\n",
    "\n",
    "img = cv2.imread('./fake.jpg')\n",
    "\n",
    "# 人脸特征的详细说明,计算机根据这些特征进行人脸检测\n",
    "# 符合其中一部分特征就可以算作是人脸\n",
    "# 级联分类器，检测器，\n",
    "face_detector = cv2.CascadeClassifier('./haarcascade_frontalface_alt.xml')\n",
    "faces = face_detector.detectMultiScale(img)   # 检测出来的人脸坐标x,y,w,h\n",
    "\n",
    "for x, y, w, h in faces:\n",
    "    cv2.rectangle(img, \n",
    "                  pt1=(x, y), \n",
    "                  pt2=(x + w, y + h), color=(0, 0, 255), thickness=2) \n",
    "\n",
    "cv2.imshow('face', img)\n",
    "\n",
    "cv2.waitKey(0)\n",
    "cv2.destroyAllWindows()"
   ]
  }
 ],
 "metadata": {
  "kernelspec": {
   "display_name": "Python 3 (ipykernel)",
   "language": "python",
   "name": "python3"
  },
  "language_info": {
   "codemirror_mode": {
    "name": "ipython",
    "version": 3
   },
   "file_extension": ".py",
   "mimetype": "text/x-python",
   "name": "python",
   "nbconvert_exporter": "python",
   "pygments_lexer": "ipython3",
   "version": "3.7.15"
  }
 },
 "nbformat": 4,
 "nbformat_minor": 5
}
