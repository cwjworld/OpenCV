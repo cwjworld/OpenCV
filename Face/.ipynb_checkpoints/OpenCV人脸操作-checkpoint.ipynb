{
 "cells": [
  {
   "cell_type": "markdown",
   "id": "0c090966",
   "metadata": {},
   "source": [
    "### 马赛克"
   ]
  },
  {
   "cell_type": "code",
   "execution_count": 2,
   "id": "ff80df3e",
   "metadata": {},
   "outputs": [],
   "source": [
    "import cv2\n",
    "import numpy as np\n",
    "\n",
    "img = cv2.imread('./bao.jpg')\n",
    "\n",
    "# 马赛克方式一 \n",
    "# img2 = cv2.resize(img, (35, 23))\n",
    "# img3 = cv2.resize(img2, (350, 232))\n",
    "\n",
    "# 马赛克方式二\n",
    "# img2 = cv2.resize(img, (35, 23))\n",
    "# img3 = np.repeat(img2, 10, axis=0)\n",
    "# img4 = np.repeat(img3, 10, axis=1)\n",
    "\n",
    "# 马赛克方式三（伪马赛克）\n",
    "img2 = img[::10, ::10] # 每10个中取一个像素\n",
    "cv2.namedWindow('bao', flags=cv2.WINDOW_NORMAL)\n",
    "cv2.resizeWindow('bao', 350,232)\n",
    "\n",
    "cv2.imshow('bao', img2)\n",
    "\n",
    "cv2.waitKey(0)\n",
    "cv2.destroyAllWindows()"
   ]
  },
  {
   "cell_type": "markdown",
   "id": "84b0a25d",
   "metadata": {},
   "source": [
    "### 图片人脸马赛克"
   ]
  },
  {
   "cell_type": "code",
   "execution_count": 20,
   "id": "5f319ce1",
   "metadata": {
    "scrolled": true
   },
   "outputs": [],
   "source": [
    "import cv2\n",
    "import numpy as np\n",
    "\n",
    "img = cv2.imread('./bao.jpg')\n",
    "\n",
    "face = img[42:164, 145:269]\n",
    "face = face[::10, ::10]\n",
    "face = np.repeat(face, 10, axis=0)\n",
    "face = np.repeat(face, 10, axis=1)\n",
    "img[42:164, 145:269] = face[:122, :124]\n",
    "\n",
    "cv2.imshow('bao', img)\n",
    "\n",
    "cv2.waitKey(0)\n",
    "cv2.destroyAllWindows()"
   ]
  }
 ],
 "metadata": {
  "kernelspec": {
   "display_name": "Python 3 (ipykernel)",
   "language": "python",
   "name": "python3"
  },
  "language_info": {
   "codemirror_mode": {
    "name": "ipython",
    "version": 3
   },
   "file_extension": ".py",
   "mimetype": "text/x-python",
   "name": "python",
   "nbconvert_exporter": "python",
   "pygments_lexer": "ipython3",
   "version": "3.7.15"
  }
 },
 "nbformat": 4,
 "nbformat_minor": 5
}
