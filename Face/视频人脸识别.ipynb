{
 "cells": [
  {
   "cell_type": "code",
   "execution_count": 18,
   "id": "e91dcbd5",
   "metadata": {},
   "outputs": [],
   "source": [
    "import cv2\n",
    "\n",
    "video = cv2.VideoCapture('./v.mp4')\n",
    "\n",
    "face_detector = cv2.CascadeClassifier('./haarcascade_frontalface_alt.xml')\n",
    "\n",
    "while True:\n",
    "    retval, image = video.read()    # retval boolean表明是否获取图片，True\n",
    "    image = cv2.resize(image, (640,360))\n",
    "    if retval == False:   # 取了最后一张，再读取就没有了\n",
    "        print('视频读取已完成')\n",
    "        break\n",
    "    gray = cv2.cvtColor(image, cv2.COLOR_BGR2GRAY)    \n",
    "    faces = face_detector.detectMultiScale(gray)  # 耗时操作，扫描整张图片\n",
    "    for x, y, w, h in faces:\n",
    "        cv2.rectangle(image, pt1=(x, y), pt2=(x + w, y + h), color=[0, 0, 255], thickness=2)\n",
    "    \n",
    "    cv2.imshow('ttnk', image)\n",
    "    key = cv2.waitKey(5)\n",
    "    if key == ord('q'):\n",
    "        break\n",
    "        \n",
    "cv2.destroyAllWindows()\n",
    "video.release()"
   ]
  }
 ],
 "metadata": {
  "kernelspec": {
   "display_name": "Python 3 (ipykernel)",
   "language": "python",
   "name": "python3"
  },
  "language_info": {
   "codemirror_mode": {
    "name": "ipython",
    "version": 3
   },
   "file_extension": ".py",
   "mimetype": "text/x-python",
   "name": "python",
   "nbconvert_exporter": "python",
   "pygments_lexer": "ipython3",
   "version": "3.7.15"
  }
 },
 "nbformat": 4,
 "nbformat_minor": 5
}
