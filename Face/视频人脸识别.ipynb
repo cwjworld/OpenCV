{
 "cells": [
  {
   "cell_type": "code",
   "execution_count": 5,
   "id": "e91dcbd5",
   "metadata": {},
   "outputs": [],
   "source": [
    "import cv2\n",
    "import numpy as np\n",
    "\n",
    "video = cv2.VideoCapture('./v.mp4')\n",
    "\n",
    "face_detector = cv2.CascadeClassifier('./haarcascade_frontalface_alt.xml')\n",
    "\n",
    "while True:\n",
    "    retval, image = video.read()    # retval boolean表明是否获取图片，True\n",
    "    if retval == False:   # 取了最后一张，再读取就没有了\n",
    "        print('视频读取已完成')\n",
    "        break\n",
    "    image = cv2.resize(image, (640,360))\n",
    "    gray = cv2.cvtColor(image, cv2.COLOR_BGR2GRAY)    \n",
    "    faces = face_detector.detectMultiScale(gray)  # 耗时操作，扫描整张图片\n",
    "    for x, y, w, h in faces:\n",
    "         cv2.rectangle(image, pt1=(x, y), pt2=(x + w, y + h), color=[0, 0, 255], thickness=2)\n",
    "    \n",
    "    cv2.imshow('ttnk', image)\n",
    "    key = cv2.waitKey(5)\n",
    "    if key == ord('q'):\n",
    "        break\n",
    "        \n",
    "cv2.destroyAllWindows()\n",
    "video.release()"
   ]
  },
  {
   "cell_type": "markdown",
   "id": "350003e4",
   "metadata": {},
   "source": [
    "### 视频人脸马赛克"
   ]
  },
  {
   "cell_type": "code",
   "execution_count": 10,
   "id": "4a6613aa",
   "metadata": {},
   "outputs": [
    {
     "name": "stdout",
     "output_type": "stream",
     "text": [
      "视频帧率： 23.977003045558014\n",
      "1280.0 720.0 526.0\n"
     ]
    }
   ],
   "source": [
    "import cv2\n",
    "import numpy as np\n",
    "\n",
    "video = cv2.VideoCapture('./v.mp4') \n",
    "fps = video.get(propId=cv2.CAP_PROP_FPS)   # 获取视频帧率\n",
    "width = video.get(propId=cv2.CAP_PROP_FRAME_WIDTH)\n",
    "height = video.get(propId=cv2.CAP_PROP_FRAME_HEIGHT)\n",
    "count = video.get(propId=cv2.CAP_PROP_FRAME_COUNT)\n",
    "print('视频帧率：', fps)\n",
    "print(width, height, count)\n",
    "\n",
    "face_detector = cv2.CascadeClassifier('./haarcascade_frontalface_alt.xml')\n",
    "\n",
    "while True:\n",
    "    retval, image = video.read()    # retval boolean表明是否获取图片，True\n",
    "    if retval == False:   # 取了最后一张，再读取就没有了\n",
    "        print('视频读取已完成')\n",
    "        break\n",
    "    image = cv2.resize(image, (640,360))\n",
    "    gray = cv2.cvtColor(image, cv2.COLOR_BGR2GRAY)    \n",
    "    faces = face_detector.detectMultiScale(gray)  # 耗时操作，扫描整张图片\n",
    "    for x, y, w, h in faces:\n",
    "          cv2.rectangle(image, pt1=(x, y), pt2=(x + w, y + h), color=[0, 0, 255], thickness=2)\n",
    "#         face = image[y:y+h, x:x+w]\n",
    "#         face = face[::10, ::10]\n",
    "#         face = np.repeat(np.repeat(face, 10, axis = 0), 10, axis = 1)\n",
    "#         image[y:y+h, x:x+w] = face[:h, :w]\n",
    "    \n",
    "    cv2.imshow('ttnk', image)\n",
    "    key = cv2.waitKey(5)\n",
    "    if key == ord('q'):\n",
    "        break\n",
    "        \n",
    "cv2.destroyAllWindows()\n",
    "video.release()"
   ]
  },
  {
   "cell_type": "markdown",
   "id": "b5b9e63d",
   "metadata": {},
   "source": [
    "### 视频保存"
   ]
  },
  {
   "cell_type": "code",
   "execution_count": 9,
   "id": "c898240a",
   "metadata": {},
   "outputs": [
    {
     "name": "stdout",
     "output_type": "stream",
     "text": [
      "视频读取已完成\n"
     ]
    }
   ],
   "source": [
    "import cv2\n",
    "import numpy as np\n",
    "\n",
    "video = cv2.VideoCapture('./v.mp4') \n",
    "X = cv2.VideoWriter(filename = './gray.mp4',\n",
    "                 fourcc = cv2.VideoWriter.fourcc(*'MP4V'),\n",
    "                 fps = 24,\n",
    "                 frameSize = (640,360))\n",
    "\n",
    "face_detector = cv2.CascadeClassifier('./haarcascade_frontalface_alt.xml')\n",
    "\n",
    "while True:\n",
    "    retval, image = video.read()    # retval boolean表明是否获取图片，True\n",
    "    if retval == False:   # 取了最后一张，再读取就没有了\n",
    "        print('视频读取已完成')\n",
    "        break\n",
    "    image = cv2.resize(image, (640,360))\n",
    "    gray = cv2.cvtColor(image, cv2.COLOR_BGR2GRAY)\n",
    "    gray2 = np.repeat(gray.reshape(360, 640, 1), 3, axis = 2)\n",
    "    faces = face_detector.detectMultiScale(gray)  # 耗时操作，扫描整张图片\n",
    "    for x, y, w, h in faces:\n",
    "        # cv2.rectangle(image, pt1=(x, y), pt2=(x + w, y + h), color=[0, 0, 255], thickness=2)\n",
    "        face = image[y:y+h, x:x+w]\n",
    "        face = face[::10, ::10]\n",
    "        face = np.repeat(np.repeat(face, 10, axis = 0), 10, axis = 1)\n",
    "        image[y:y+h, x:x+w] = face[:h, :w]\n",
    "    \n",
    "    X.write(gray2)\n",
    "    cv2.imshow('ttnk', image)\n",
    "    key = cv2.waitKey(5)\n",
    "    if key == ord('q'):\n",
    "        break\n",
    "        \n",
    "cv2.destroyAllWindows()\n",
    "video.release()\n",
    "X.release()"
   ]
  }
 ],
 "metadata": {
  "kernelspec": {
   "display_name": "Python 3 (ipykernel)",
   "language": "python",
   "name": "python3"
  },
  "language_info": {
   "codemirror_mode": {
    "name": "ipython",
    "version": 3
   },
   "file_extension": ".py",
   "mimetype": "text/x-python",
   "name": "python",
   "nbconvert_exporter": "python",
   "pygments_lexer": "ipython3",
   "version": "3.7.15"
  }
 },
 "nbformat": 4,
 "nbformat_minor": 5
}
