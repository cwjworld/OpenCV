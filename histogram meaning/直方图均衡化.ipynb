{
 "cells": [
  {
   "cell_type": "markdown",
   "id": "5083b46e",
   "metadata": {},
   "source": [
    "### 直方图均衡化"
   ]
  },
  {
   "cell_type": "code",
   "execution_count": 2,
   "id": "04d5e6d6",
   "metadata": {},
   "outputs": [
    {
     "name": "stdout",
     "output_type": "stream",
     "text": [
      "1\n"
     ]
    }
   ],
   "source": [
    "import cv2\n",
    "import numpy as np\n",
    "\n",
    "f = cv2.datasets.female\n",
    "print(f)\n",
    "\n",
    "cv2.waitKey(0)\n",
    "cv2.destroyAllWindows()"
   ]
  },
  {
   "cell_type": "code",
   "execution_count": null,
   "id": "532f4f85",
   "metadata": {},
   "outputs": [],
   "source": [
    "!pip install scikit-image https://pypi.tuna.tsinghua.edu.cn/simple"
   ]
  }
 ],
 "metadata": {
  "kernelspec": {
   "display_name": "Python 3 (ipykernel)",
   "language": "python",
   "name": "python3"
  },
  "language_info": {
   "codemirror_mode": {
    "name": "ipython",
    "version": 3
   },
   "file_extension": ".py",
   "mimetype": "text/x-python",
   "name": "python",
   "nbconvert_exporter": "python",
   "pygments_lexer": "ipython3",
   "version": "3.7.15"
  }
 },
 "nbformat": 4,
 "nbformat_minor": 5
}
