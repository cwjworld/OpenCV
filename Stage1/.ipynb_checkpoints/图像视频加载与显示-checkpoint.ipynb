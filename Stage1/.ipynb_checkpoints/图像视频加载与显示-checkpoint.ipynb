{
 "cells": [
  {
   "cell_type": "markdown",
   "id": "b1b1ac2f",
   "metadata": {
    "collapsed": true,
    "deletable": true,
    "editable": true
   },
   "source": [
    "# 创建和显示窗口"
   ]
  },
  {
   "cell_type": "code",
   "execution_count": 1,
   "id": "326f35c2",
   "metadata": {
    "collapsed": true,
    "deletable": true,
    "editable": true
   },
   "outputs": [],
   "source": [
    "import cv2"
   ]
  },
  {
   "cell_type": "code",
   "execution_count": 2,
   "id": "a96be67b",
   "metadata": {
    "collapsed": false,
    "deletable": true,
    "editable": true
   },
   "outputs": [
    {
     "name": "stdout",
     "output_type": "stream",
     "text": [
      "准备销毁窗口\n"
     ]
    }
   ],
   "source": [
    "# 创建窗口\n",
    "#AUTOSIZE不允许修改窗口大小\n",
    "#cv2.namedWindow('windows', cv2.WINDOW_AUTOSIZE)\n",
    "cv2.namedWindow('windows', cv2.WINDOW_NORMAL)\n",
    "\n",
    "# 改变窗口大小\n",
    "cv2.resizeWindow('window',800,600)\n",
    "# 展示名字为window的窗口\n",
    "cv2.imshow('window', 0)\n",
    "\n",
    "# 等待按键\n",
    "# waitKey会返回按键的ascii的值\n",
    "key = cv2.waitKey(0)\n",
    "if key == ord('q'):\n",
    "    print('准备销毁窗口')\n",
    "    cv2.destroyAllWindows()"
   ]
  },
  {
   "cell_type": "markdown",
   "id": "4118fd79",
   "metadata": {
    "deletable": true,
    "editable": true
   },
   "source": [
    "## 读取图片"
   ]
  },
  {
   "cell_type": "code",
   "execution_count": 3,
   "id": "fb556d98",
   "metadata": {
    "collapsed": false,
    "deletable": true,
    "editable": true,
    "scrolled": true
   },
   "outputs": [],
   "source": [
    "import cv2 "
   ]
  },
  {
   "cell_type": "code",
   "execution_count": 4,
   "id": "718a1503",
   "metadata": {
    "collapsed": false,
    "deletable": true,
    "editable": true
   },
   "outputs": [
    {
     "data": {
      "text/plain": [
       "array([[[255, 252, 255],\n",
       "        [255, 253, 255],\n",
       "        [255, 253, 255],\n",
       "        ...,\n",
       "        [ 59, 221, 250],\n",
       "        [ 59, 221, 250],\n",
       "        [ 59, 221, 250]],\n",
       "\n",
       "       [[252, 253, 255],\n",
       "        [252, 254, 255],\n",
       "        [250, 254, 255],\n",
       "        ...,\n",
       "        [ 59, 221, 250],\n",
       "        [ 59, 221, 250],\n",
       "        [ 59, 221, 250]],\n",
       "\n",
       "       [[248, 255, 255],\n",
       "        [248, 255, 255],\n",
       "        [244, 255, 255],\n",
       "        ...,\n",
       "        [ 59, 221, 250],\n",
       "        [ 59, 221, 250],\n",
       "        [ 59, 221, 250]],\n",
       "\n",
       "       ...,\n",
       "\n",
       "       [[ 10,   7, 216],\n",
       "        [ 10,   7, 216],\n",
       "        [ 10,   7, 216],\n",
       "        ...,\n",
       "        [ 11,   8, 217],\n",
       "        [ 10,   7, 216],\n",
       "        [ 10,   7, 216]],\n",
       "\n",
       "       [[ 10,   7, 216],\n",
       "        [ 10,   7, 216],\n",
       "        [ 10,   7, 216],\n",
       "        ...,\n",
       "        [ 11,   8, 217],\n",
       "        [ 10,   7, 216],\n",
       "        [ 10,   7, 216]],\n",
       "\n",
       "       [[ 10,   7, 216],\n",
       "        [ 10,   7, 216],\n",
       "        [ 10,   7, 216],\n",
       "        ...,\n",
       "        [ 11,   8, 217],\n",
       "        [ 10,   7, 216],\n",
       "        [ 10,   7, 216]]], dtype=uint8)"
      ]
     },
     "execution_count": 4,
     "metadata": {},
     "output_type": "execute_result"
    }
   ],
   "source": [
    "Dunk = cv2.imread('./Dunk.jpg')\n",
    "\n",
    "Dunk"
   ]
  },
  {
   "cell_type": "code",
   "execution_count": 5,
   "id": "0ba0a465",
   "metadata": {
    "collapsed": false,
    "deletable": true,
    "editable": true
   },
   "outputs": [
    {
     "name": "stdout",
     "output_type": "stream",
     "text": [
      "准备销毁窗口\n"
     ]
    }
   ],
   "source": [
    "cv2.imshow('Dunk', Dunk)\n",
    "key = cv2.waitKey(0)\n",
    "if key == ord('q'):\n",
    "    print('准备销毁窗口')\n",
    "    cv2.destroyAllWindows()"
   ]
  },
  {
   "cell_type": "code",
   "execution_count": 6,
   "id": "566705a3",
   "metadata": {
    "collapsed": true,
    "deletable": true,
    "editable": true
   },
   "outputs": [],
   "source": [
    "from utils import cv_show"
   ]
  },
  {
   "cell_type": "code",
   "execution_count": 7,
   "id": "25dd80b1",
   "metadata": {
    "collapsed": true,
    "deletable": true,
    "editable": true
   },
   "outputs": [],
   "source": [
    "%run utils.py"
   ]
  },
  {
   "cell_type": "code",
   "execution_count": 8,
   "id": "57e459fd",
   "metadata": {
    "collapsed": false,
    "deletable": true,
    "editable": true
   },
   "outputs": [],
   "source": [
    "cv_show('Dunk', Dunk)"
   ]
  },
  {
   "cell_type": "code",
   "execution_count": 9,
   "id": "baab57b4",
   "metadata": {
    "collapsed": true,
    "deletable": true,
    "editable": true
   },
   "outputs": [],
   "source": [
    "cv2.namedWindow('img', cv2.WINDOW_NORMAL)\n",
    "cv2.resizeWindow(\"img\", 640,480)\n",
    "\n",
    "# 读取图片\n",
    "img = cv2.imread('./Dunk.jpg')\n",
    "while True:\n",
    "    cv2.imshow(\"img\", img)\n",
    "    key = cv2.waitKey(0)\n",
    "    \n",
    "    if key == ord('q'):\n",
    "        break\n",
    "    elif key == ord('s'):\n",
    "        cv2.imwrite('./123.png', img)\n",
    "    else:\n",
    "        print(key)\n",
    "        \n",
    "cv2.destroyAllWindows()"
   ]
  },
  {
   "cell_type": "markdown",
   "id": "8ca40c93",
   "metadata": {
    "deletable": true,
    "editable": true
   },
   "source": [
    "## 视频采集"
   ]
  },
  {
   "cell_type": "code",
   "execution_count": 10,
   "id": "1428231b",
   "metadata": {
    "collapsed": false,
    "deletable": true,
    "editable": true
   },
   "outputs": [],
   "source": [
    "# 打开摄像头\n",
    "\n",
    "cv2.namedWindow('video', cv2.WINDOW_NORMAL)\n",
    "cv2.resizeWindow('video', 640,480)\n",
    "\n",
    "cap = cv2.VideoCapture(0)\n",
    "\n",
    "# 循环读取摄像头每一帧\n",
    "while True:\n",
    "    # 读一帧数据,返回标记和这一帧数据，True表示读到了数据，False表示没有读到数据\n",
    "    ret, frame = cap.read()\n",
    "    \n",
    "    # 可以根据ret做一个判断\n",
    "    if not ret:\n",
    "        # 没读到数据，直接退出\n",
    "        break \n",
    "        \n",
    "    # 显示数据\n",
    "    cv2.imshow('video', frame)\n",
    "    \n",
    "    key = cv2.waitKey(10)\n",
    "    if key == ord('q'):\n",
    "        break\n",
    "        \n",
    "cap.release()\n",
    "cv2.destroyAllWindows()"
   ]
  },
  {
   "cell_type": "code",
   "execution_count": 11,
   "id": "86b97b1c",
   "metadata": {
    "collapsed": false,
    "deletable": true,
    "editable": true
   },
   "outputs": [],
   "source": [
    "cap = cv2.VideoCapture(0)\n",
    "# *mp4v就是解包操作\n",
    "fourcc = cv2.VideoWriter_fourcc(*'mp4v')\n",
    "# fourcc = cv2.VideoWriter_fourcc(*'XVID')\n",
    "\n",
    "# 创建videowrite\n",
    "vw = cv2.VideoWriter('output.mp4', fourcc, 20, (640,480)) \n",
    "# vw = cv2.VideoWriter('output.avi', fourcc, 30, (640,480)) \n",
    "\n",
    "while cap.isOpened():\n",
    "    ret, frame = cap.read()\n",
    "    if not ret:\n",
    "        break\n",
    "\n",
    "    # 写每一帧数据 \n",
    "    vw.write(frame)\n",
    "    cv2.imshow('frame', frame)\n",
    "    \n",
    "    if cv2.waitKey(1) == ord('q'):\n",
    "        break\n",
    "        \n",
    "cap.release()\n",
    "vw.release()\n",
    "cv2.destroyAllWindows() "
   ]
  },
  {
   "cell_type": "markdown",
   "id": "6d757bc8",
   "metadata": {
    "collapsed": true,
    "deletable": true,
    "editable": true
   },
   "source": [
    "## 控制鼠标"
   ]
  },
  {
   "cell_type": "code",
   "execution_count": null,
   "id": "944e7f5f",
   "metadata": {
    "collapsed": false,
    "deletable": true,
    "editable": true
   },
   "outputs": [],
   "source": [
    "import cv2\n",
    "import numpy as np\n",
    "\n",
    "# event表示鼠标发生的事件，x.y是鼠标的坐标\n",
    "# 函数名随意，但是参数必须是五个\n",
    "# flag是鼠标的组合按键\n",
    "def mouse_callback(event, x, y, flags, userdata):\n",
    "    print(event, x, y, flags, userdata)\n",
    "    # 按下鼠标右键退出 \n",
    "    if event == 2:\n",
    "        cv2.destroyAllWindows()\n",
    "        \n",
    "    \n",
    "cv2.namedWindow('mouse', cv2.WINDOW_NORMAL)\n",
    "cv2.resizeWindow('mouse', 640, 360)\n",
    "\n",
    "# 设置鼠标的回调函数\n",
    "cv2.setMouseCallback('mouse', mouse_callback, '123')\n",
    "\n",
    "# 生成全黑的图片\n",
    "img = np.zeros((360, 640, 3), np.uint8)\n",
    "while True:\n",
    "    cv2.imshow('mouse', img)\n",
    "    key = cv2.waitKey(1)\n",
    "    if key ==  ord('q'):\n",
    "        break\n",
    "        \n",
    "cv2.destroyAllWindows()"
   ]
  },
  {
   "cell_type": "markdown",
   "id": "3f51bc18",
   "metadata": {
    "deletable": true,
    "editable": true
   },
   "source": [
    "## TrackBar控件"
   ]
  },
  {
   "cell_type": "code",
   "execution_count": 5,
   "id": "577fc89e",
   "metadata": {
    "collapsed": false,
    "deletable": true,
    "editable": true
   },
   "outputs": [],
   "source": [
    "import cv2\n",
    "import numpy as np\n",
    "\n",
    "cv2.namedWindow('trackbar', cv2.WINDOW_NORMAL)\n",
    "cv2.resizeWindow('trackbar', 640, 480)\n",
    "\n",
    "# 定义回调函数\n",
    "def callback(value):\n",
    "    print(value)\n",
    "    \n",
    "# 创建trackbar\n",
    "cv2.createTrackbar('R', 'trackbar', 0, 255, callback)\n",
    "cv2.createTrackbar('G', 'trackbar', 0, 255, callback)\n",
    "cv2.createTrackbar('B', 'trackbar', 0, 255, callback)\n",
    "\n",
    "# 创建一个背景图片\n",
    "img = np.zeros((480,640,3), np.uint8)\n",
    "\n",
    "while True:\n",
    "    # 获取当前trackbar的值\n",
    "    r = cv2.getTrackbarPos('R', 'trackbar')\n",
    "    g = cv2.getTrackbarPos('G', 'trackbar')    \n",
    "    b = cv2.getTrackbarPos('B', 'trackbar')    \n",
    "    \n",
    "    # 改变背景颜色\n",
    "    img[:] = [b, g, r]\n",
    "    cv2.imshow('trackbar', img)\n",
    "    \n",
    "    key = cv2.waitKey(1)\n",
    "    if key == ord('q'):\n",
    "        break\n",
    "    \n",
    "cv2.destroyAllWindows()"
   ]
  },
  {
   "cell_type": "code",
   "execution_count": null,
   "id": "d8c6c998",
   "metadata": {
    "collapsed": true,
    "deletable": true,
    "editable": true
   },
   "outputs": [],
   "source": []
  }
 ],
 "metadata": {
  "kernelspec": {
   "display_name": "Python 3",
   "language": "python",
   "name": "python3"
  },
  "language_info": {
   "codemirror_mode": {
    "name": "ipython",
    "version": 3
   },
   "file_extension": ".py",
   "mimetype": "text/x-python",
   "name": "python",
   "nbconvert_exporter": "python",
   "pygments_lexer": "ipython3",
   "version": "3.6.7"
  }
 },
 "nbformat": 4,
 "nbformat_minor": 5
}
