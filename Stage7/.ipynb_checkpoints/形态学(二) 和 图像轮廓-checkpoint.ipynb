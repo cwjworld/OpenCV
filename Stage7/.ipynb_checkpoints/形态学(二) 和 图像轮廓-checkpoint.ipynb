{
 "cells": [
  {
   "cell_type": "markdown",
   "id": "a6e880f3",
   "metadata": {},
   "source": [
    "### 开运算"
   ]
  },
  {
   "cell_type": "code",
   "execution_count": 9,
   "id": "0ca19040",
   "metadata": {},
   "outputs": [],
   "source": [
    "# 开运算 = 腐蚀 + 膨胀\n",
    "# 可以作为除噪点的思路\n",
    "# 模拟实现\n",
    "import cv2\n",
    "import numpy as np\n",
    "\n",
    "img = cv2.imread('./J.jpg')\n",
    "\n",
    "kernel = cv2.getStructuringElement(cv2.MORPH_RECT, (5, 5))\n",
    "\n",
    "# 先腐蚀\n",
    "dst = cv2.erode(img, kernel, iterations=1)\n",
    "\n",
    "# 膨胀\n",
    "dst = cv2.dilate(dst, kernel, iterations=1)\n",
    "\n",
    "cv2.imshow('dst', np.hstack((img, dst)))\n",
    "\n",
    "cv2.waitKey(0)\n",
    "cv2.destroyAllWindows()"
   ]
  },
  {
   "cell_type": "code",
   "execution_count": 14,
   "id": "91d4bf51",
   "metadata": {},
   "outputs": [],
   "source": [
    "import cv2\n",
    "import numpy as np\n",
    "\n",
    "img = cv2.imread('./J.jpg')\n",
    "\n",
    "kernel = cv2.getStructuringElement(cv2.MORPH_RECT, (5, 5))\n",
    "\n",
    "dst = cv2.morphologyEx(img, cv2.MORPH_OPEN, kernel)\n",
    "\n",
    "cv2.imshow('dst', np.hstack((img, dst)))\n",
    "\n",
    "cv2.waitKey(0)\n",
    "cv2.destroyAllWindows()"
   ]
  },
  {
   "cell_type": "markdown",
   "id": "207e4df1",
   "metadata": {},
   "source": [
    "### 闭运算"
   ]
  },
  {
   "cell_type": "code",
   "execution_count": 2,
   "id": "e0594b1c",
   "metadata": {},
   "outputs": [],
   "source": [
    "# 闭运算 = 膨胀 ＋ 腐蚀\n",
    "# 可以用于去除内部的噪声\n",
    "import cv2\n",
    "import numpy as np\n",
    "\n",
    "img = cv2.imread('./i.jpg')\n",
    "\n",
    "kernel = cv2.getStructuringElement(cv2.MORPH_RECT, (5, 5))\n",
    "\n",
    "dst = cv2.morphologyEx(img, cv2.MORPH_CLOSE, kernel, iterations=2)\n",
    "\n",
    "cv2.imshow('dst', np.hstack((img, dst)))\n",
    "\n",
    "cv2.waitKey(0)\n",
    "cv2.destroyAllWindows()"
   ]
  },
  {
   "cell_type": "markdown",
   "id": "384f7b53",
   "metadata": {},
   "source": [
    "### 形态学梯度"
   ]
  },
  {
   "cell_type": "code",
   "execution_count": 5,
   "id": "162ba45e",
   "metadata": {},
   "outputs": [],
   "source": [
    "# 形态学梯度 = 膨胀 - 腐蚀\n",
    "import cv2\n",
    "import numpy as np\n",
    "\n",
    "img = cv2.imread('./ai.jpg')\n",
    "\n",
    "kernel = cv2.getStructuringElement(cv2.MORPH_RECT, (5, 5))\n",
    "\n",
    "dst = cv2.morphologyEx(img, cv2.MORPH_GRADIENT, kernel, iterations=2)\n",
    "\n",
    "cv2.imshow('dst', np.hstack((img, dst)))\n",
    "\n",
    "cv2.waitKey(0)\n",
    "cv2.destroyAllWindows()"
   ]
  },
  {
   "cell_type": "markdown",
   "id": "63104ee9",
   "metadata": {},
   "source": [
    "### 顶帽操作"
   ]
  },
  {
   "cell_type": "code",
   "execution_count": 8,
   "id": "701e18a0",
   "metadata": {},
   "outputs": [],
   "source": [
    "# 顶帽操作 = 原图 - 开运算\n",
    "import cv2\n",
    "import numpy as np\n",
    "\n",
    "img = cv2.imread('./j.jpg')\n",
    "\n",
    "kernel = cv2.getStructuringElement(cv2.MORPH_RECT, (3, 3))\n",
    "\n",
    "dst = cv2.morphologyEx(img, cv2.MORPH_TOPHAT, kernel, iterations=1)\n",
    "\n",
    "cv2.imshow('dst', np.hstack((img, dst)))\n",
    "\n",
    "cv2.waitKey(0)\n",
    "cv2.destroyAllWindows()"
   ]
  },
  {
   "cell_type": "markdown",
   "id": "ca478f43",
   "metadata": {},
   "source": [
    "### 黑帽操作"
   ]
  },
  {
   "cell_type": "code",
   "execution_count": 3,
   "id": "9902704d",
   "metadata": {},
   "outputs": [],
   "source": [
    "# 黑帽操作 = 原图 - 闭运算\n",
    "import cv2\n",
    "import numpy as np\n",
    "\n",
    "img = cv2.imread('./big.jpg')\n",
    "\n",
    "kernel = cv2.getStructuringElement(cv2.MORPH_RECT, (5, 5))\n",
    "\n",
    "dst = cv2.morphologyEx(img, cv2.MORPH_BLACKHAT, kernel, iterations=1)\n",
    "\n",
    "cv2.imshow('dst', np.hstack((img, dst)))\n",
    "\n",
    "cv2.waitKey(0)\n",
    "cv2.destroyAllWindows()"
   ]
  },
  {
   "cell_type": "markdown",
   "id": "518fd068",
   "metadata": {},
   "source": [
    "### 查找轮廓"
   ]
  },
  {
   "cell_type": "code",
   "execution_count": 7,
   "id": "8c6b0245",
   "metadata": {},
   "outputs": [
    {
     "name": "stdout",
     "output_type": "stream",
     "text": [
      "<class 'list'>\n",
      "[array([[[115, 108]],\n",
      "\n",
      "       [[115, 432]],\n",
      "\n",
      "       [[454, 432]],\n",
      "\n",
      "       [[454, 108]]], dtype=int32), array([[[159, 143]],\n",
      "\n",
      "       [[160, 142]],\n",
      "\n",
      "       [[409, 142]],\n",
      "\n",
      "       [[410, 143]],\n",
      "\n",
      "       [[410, 394]],\n",
      "\n",
      "       [[409, 395]],\n",
      "\n",
      "       [[160, 395]],\n",
      "\n",
      "       [[159, 394]]], dtype=int32), array([[[193, 181]],\n",
      "\n",
      "       [[193, 354]],\n",
      "\n",
      "       [[381, 354]],\n",
      "\n",
      "       [[381, 181]]], dtype=int32), array([[[226, 210]],\n",
      "\n",
      "       [[227, 209]],\n",
      "\n",
      "       [[346, 209]],\n",
      "\n",
      "       [[347, 210]],\n",
      "\n",
      "       [[347, 326]],\n",
      "\n",
      "       [[346, 327]],\n",
      "\n",
      "       [[227, 327]],\n",
      "\n",
      "       [[226, 326]]], dtype=int32)]\n",
      "[[[-1 -1  1 -1]\n",
      "  [-1 -1  2  0]\n",
      "  [-1 -1  3  1]\n",
      "  [-1 -1 -1  2]]]\n"
     ]
    }
   ],
   "source": [
    "import cv2\n",
    "import numpy as np\n",
    "\n",
    "img = cv2.imread(\"./zfx.jpg\")\n",
    "\n",
    "# 先变成单通道的黑白图片\n",
    "gray = cv2.cvtColor(img, cv2.COLOR_BGR2GRAY)\n",
    "\n",
    "# 二值化，返回两个东西\n",
    "thresh, binary = cv2.threshold(gray, 150, 255, cv2.THRESH_BINARY)\n",
    "\n",
    "# 查找轮廓\n",
    "contours, hierarchy = cv2.findContours(binary, cv2.RETR_TREE, cv2.CHAIN_APPROX_SIMPLE)\n",
    "\n",
    "print(type(contours))\n",
    "\n",
    "# 轮廓.coutours是list，不是ndarray，里面放的是ndarray表示一个contours\n",
    "print(contours)\n",
    "\n",
    "# 层级\n",
    "print(hierarchy)\n",
    "\n",
    "cv2.waitKey(0)\n",
    "cv2.destroyAllWindows()"
   ]
  },
  {
   "cell_type": "markdown",
   "id": "4eb75349",
   "metadata": {},
   "source": [
    "### 绘制轮廓"
   ]
  },
  {
   "cell_type": "code",
   "execution_count": 1,
   "id": "5853a725",
   "metadata": {},
   "outputs": [],
   "source": [
    "import cv2\n",
    "import numpy as np\n",
    "\n",
    "img = cv2.imread(\"./zfx.jpg\")\n",
    "\n",
    "# 先变成单通道的黑白图片\n",
    "gray = cv2.cvtColor(img, cv2.COLOR_BGR2GRAY)\n",
    "\n",
    "# 二值化，返回两个东西\n",
    "thresh, binary = cv2.threshold(gray, 150, 255, cv2.THRESH_BINARY)\n",
    "\n",
    "# 查找轮廓\n",
    "contours, hierarchy = cv2.findContours(binary, cv2.RETR_TREE, cv2.CHAIN_APPROX_SIMPLE)\n",
    "\n",
    "# 绘制轮廓会直接修改原图\n",
    "img_copy = img.copy()\n",
    "cv2.drawContours(img_copy, contours, -1, (0, 0, 255), 2)\n",
    "\n",
    "cv2.imshow('img', img)\n",
    "cv2.imshow('img_copy', img_copy)\n",
    "\n",
    "cv2.waitKey(0)\n",
    "cv2.destroyAllWindows()"
   ]
  },
  {
   "cell_type": "markdown",
   "id": "6bf2389e",
   "metadata": {},
   "source": [
    "### 计算轮廓的面积和周长"
   ]
  },
  {
   "cell_type": "code",
   "execution_count": 5,
   "id": "1a69c531",
   "metadata": {},
   "outputs": [
    {
     "name": "stdout",
     "output_type": "stream",
     "text": [
      "area: 14276.0\n",
      "perimeter: 475.65685415267944\n"
     ]
    }
   ],
   "source": [
    "import cv2\n",
    "import numpy as np\n",
    "\n",
    "img = cv2.imread(\"./zfx.jpg\")\n",
    "\n",
    "# 先变成单通道的黑白图片\n",
    "gray = cv2.cvtColor(img, cv2.COLOR_BGR2GRAY)\n",
    "\n",
    "# 二值化，返回两个东西\n",
    "thresh, binary = cv2.threshold(gray, 150, 255, cv2.THRESH_BINARY)\n",
    "\n",
    "# 查找轮廓\n",
    "contours, hierarchy = cv2.findContours(binary, cv2.RETR_TREE, cv2.CHAIN_APPROX_SIMPLE)\n",
    "\n",
    "# 绘制轮廓会直接修改原图\n",
    "img_copy = img.copy()\n",
    "cv2.drawContours(img_copy, contours, -1, (0, 0, 255), 2)\n",
    "\n",
    "# 计算轮廓面积\n",
    "area = cv2.contourArea(contours[-1])\n",
    "print('area:', area)\n",
    "\n",
    "# 计算轮廓周长\n",
    "perimeter = cv2.arcLength(contours[-1], closed=True)\n",
    "print('perimeter:', perimeter)\n",
    "\n",
    "cv2.waitKey(0)\n",
    "cv2.destroyAllWindows()"
   ]
  },
  {
   "cell_type": "markdown",
   "id": "cb190c82",
   "metadata": {},
   "source": [
    "### 多边形的逼近与凸包"
   ]
  },
  {
   "cell_type": "code",
   "execution_count": 19,
   "id": "6948cbf1",
   "metadata": {
    "scrolled": true
   },
   "outputs": [
    {
     "name": "stdout",
     "output_type": "stream",
     "text": [
      "<class 'numpy.ndarray'>\n",
      "[[[205  34]]\n",
      "\n",
      " [[174  97]]\n",
      "\n",
      " [[175  41]]\n",
      "\n",
      " [[152 108]]\n",
      "\n",
      " [[138  62]]\n",
      "\n",
      " [[134 175]]\n",
      "\n",
      " [[ 84 239]]\n",
      "\n",
      " [[152 239]]\n",
      "\n",
      " [[255 126]]\n",
      "\n",
      " [[208 139]]\n",
      "\n",
      " [[238  61]]\n",
      "\n",
      " [[191 105]]]\n"
     ]
    }
   ],
   "source": [
    "import cv2\n",
    "import numpy as np\n",
    "\n",
    "img = cv2.imread(\"./hand.jpg\")\n",
    "\n",
    "# 先变成单通道的黑白图片\n",
    "gray = cv2.cvtColor(img, cv2.COLOR_BGR2GRAY)\n",
    "\n",
    "# 二值化，返回两个东西\n",
    "thresh, binary = cv2.threshold(gray, 150, 255, cv2.THRESH_BINARY)\n",
    "\n",
    "# 查找轮廓\n",
    "contours, hierarchy = cv2.findContours(binary, cv2.RETR_TREE, cv2.CHAIN_APPROX_SIMPLE)\n",
    "\n",
    "# 绘制轮廓会直接修改原图\n",
    "img_copy = img.copy()\n",
    "hand = cv2.drawContours(img_copy, contours, 0, (0, 0, 255), 2)\n",
    "\n",
    "# 使用多边形逼近近似模拟手的轮廓\n",
    "approx = cv2.approxPolyDP(contours[0], 20, closed=True)\n",
    "print(type(approx))\n",
    "print(approx)\n",
    "cv2.drawContours(img_copy, [approx], 0, (0, 255, 0), 2)\n",
    "\n",
    "cv2.imshow('img', img_copy)\n",
    "\n",
    "cv2.waitKey(0)\n",
    "cv2.destroyAllWindows()"
   ]
  },
  {
   "cell_type": "markdown",
   "id": "92f319a6",
   "metadata": {},
   "source": [
    "### 凸包"
   ]
  },
  {
   "cell_type": "code",
   "execution_count": 3,
   "id": "bc3e5126",
   "metadata": {},
   "outputs": [],
   "source": [
    "import cv2\n",
    "import numpy as np\n",
    "\n",
    "img = cv2.imread(\"./hand.jpg\")\n",
    "\n",
    "# 先变成单通道的黑白图片\n",
    "gray = cv2.cvtColor(img, cv2.COLOR_BGR2GRAY)\n",
    "\n",
    "# 二值化，返回两个东西\n",
    "thresh, binary = cv2.threshold(gray, 150, 255, cv2.THRESH_BINARY)\n",
    "\n",
    "# 查找轮廓\n",
    "contours, hierarchy = cv2.findContours(binary, cv2.RETR_TREE, cv2.CHAIN_APPROX_SIMPLE)\n",
    "\n",
    "# 绘制轮廓\n",
    "dst = cv2.drawContours(img, contours, 0, (0, 0, 255), 2)\n",
    "\n",
    "# 使用多边形逼近近似模拟手的轮廓\n",
    "approx = cv2.approxPolyDP(contours[0], 20, closed=True)\n",
    "\n",
    "cv2.drawContours(img, [approx], 0, (0, 255, 0), 2)\n",
    "\n",
    "hull = cv2.convexHull(contours[0])\n",
    "\n",
    "# 画出凸包\n",
    "cv2.drawContours(img, [hull], 0, (255, 0, 0), 2)\n",
    "\n",
    "cv2.imshow('img', img)\n",
    "\n",
    "cv2.waitKey(0)\n",
    "cv2.destroyAllWindows()"
   ]
  },
  {
   "cell_type": "markdown",
   "id": "34ae655d",
   "metadata": {},
   "source": [
    "### 外接矩形"
   ]
  },
  {
   "cell_type": "code",
   "execution_count": 14,
   "id": "b61464c3",
   "metadata": {},
   "outputs": [
    {
     "name": "stdout",
     "output_type": "stream",
     "text": [
      "((703.3016357421875, 375.4630432128906), (119.26359558105469, 600.3636474609375), -70.41867065429688)\n",
      "[[ 966.13763  532.2504 ]\n",
      " [ 400.49506  331.04184]\n",
      " [ 440.46564  218.67566]\n",
      " [1006.1082   419.88425]]\n",
      "[[ 966  532]\n",
      " [ 400  331]\n",
      " [ 440  219]\n",
      " [1006  420]]\n"
     ]
    }
   ],
   "source": [
    "import cv2\n",
    "import numpy as np\n",
    "\n",
    "img = cv2.imread(\"./Hello.jpg\")\n",
    "\n",
    "# 先变成单通道的黑白图片\n",
    "gray = cv2.cvtColor(img, cv2.COLOR_BGR2GRAY)\n",
    "\n",
    "# 二值化，返回两个东西\n",
    "thresh, binary = cv2.threshold(gray, 150, 255, cv2.THRESH_BINARY)\n",
    "\n",
    "# 查找轮廓\n",
    "contours, hierarchy = cv2.findContours(binary, cv2.RETR_TREE, cv2.CHAIN_APPROX_SIMPLE)\n",
    "\n",
    "# 绘制轮廓\n",
    "# dst = cv2.drawContours(img, contours, 1, (0, 0, 255), 2)\n",
    "\n",
    "# rect是一个旋转的矩形，矩形起始坐标（x,y），矩形的长宽，矩形旋转角度\n",
    "rect = cv2.minAreaRect(contours[1])\n",
    "print(rect)\n",
    "# 其实就是帮我们把旋转矩阵的4个坐标点计算出来了 \n",
    "# 注意坐标必须是整数的\n",
    "box = cv2.boxPoints(rect)\n",
    "print(box)\n",
    "# 四舍五入\n",
    "box = np.round(box).astype('int64')\n",
    "print(box)\n",
    " \n",
    "# 绘制最小外接矩形\n",
    "cv2.drawContours(img, [box], 0, (255, 0, 0), 2)\n",
    "\n",
    "# 最大外接矩形\n",
    "x, y, w, h = cv2.boundingRect(contours[1])\n",
    "cv2.rectangle(img, (x, y), (x + w, y + h), (0, 0, 255), 2)\n",
    "\n",
    "cv2.imshow('img', img)\n",
    "\n",
    "cv2.waitKey(0)\n",
    "cv2.destroyAllWindows()"
   ]
  }
 ],
 "metadata": {
  "kernelspec": {
   "display_name": "Python 3 (ipykernel)",
   "language": "python",
   "name": "python3"
  },
  "language_info": {
   "codemirror_mode": {
    "name": "ipython",
    "version": 3
   },
   "file_extension": ".py",
   "mimetype": "text/x-python",
   "name": "python",
   "nbconvert_exporter": "python",
   "pygments_lexer": "ipython3",
   "version": "3.7.15"
  }
 },
 "nbformat": 4,
 "nbformat_minor": 5
}
