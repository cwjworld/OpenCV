{
 "cells": [
  {
   "cell_type": "markdown",
   "id": "a6e880f3",
   "metadata": {},
   "source": [
    "### 开运算"
   ]
  },
  {
   "cell_type": "code",
   "execution_count": 9,
   "id": "0ca19040",
   "metadata": {},
   "outputs": [],
   "source": [
    "# 开运算 = 腐蚀 + 膨胀\n",
    "# 可以作为除噪点的思路\n",
    "# 模拟实现\n",
    "import cv2\n",
    "import numpy as np\n",
    "\n",
    "img = cv2.imread('./J.jpg')\n",
    "\n",
    "kernel = cv2.getStructuringElement(cv2.MORPH_RECT, (5, 5))\n",
    "\n",
    "# 先腐蚀\n",
    "dst = cv2.erode(img, kernel, iterations=1)\n",
    "\n",
    "# 膨胀\n",
    "dst = cv2.dilate(dst, kernel, iterations=1)\n",
    "\n",
    "cv2.imshow('dst', np.hstack((img, dst)))\n",
    "\n",
    "cv2.waitKey(0)\n",
    "cv2.destroyAllWindows()"
   ]
  },
  {
   "cell_type": "code",
   "execution_count": 14,
   "id": "91d4bf51",
   "metadata": {},
   "outputs": [],
   "source": [
    "import cv2\n",
    "import numpy as np\n",
    "\n",
    "img = cv2.imread('./J.jpg')\n",
    "\n",
    "kernel = cv2.getStructuringElement(cv2.MORPH_RECT, (5, 5))\n",
    "\n",
    "dst = cv2.morphologyEx(img, cv2.MORPH_OPEN, kernel)\n",
    "\n",
    "cv2.imshow('dst', np.hstack((img, dst)))\n",
    "\n",
    "cv2.waitKey(0)\n",
    "cv2.destroyAllWindows()"
   ]
  },
  {
   "cell_type": "markdown",
   "id": "207e4df1",
   "metadata": {},
   "source": [
    "### 闭运算"
   ]
  },
  {
   "cell_type": "code",
   "execution_count": 2,
   "id": "e0594b1c",
   "metadata": {},
   "outputs": [],
   "source": [
    "# 闭运算 = 膨胀 ＋ 腐蚀\n",
    "# 可以用于去除内部的噪声\n",
    "import cv2\n",
    "import numpy as np\n",
    "\n",
    "img = cv2.imread('./i.jpg')\n",
    "\n",
    "kernel = cv2.getStructuringElement(cv2.MORPH_RECT, (5, 5))\n",
    "\n",
    "dst = cv2.morphologyEx(img, cv2.MORPH_CLOSE, kernel, iterations=2)\n",
    "\n",
    "cv2.imshow('dst', np.hstack((img, dst)))\n",
    "\n",
    "cv2.waitKey(0)\n",
    "cv2.destroyAllWindows()"
   ]
  },
  {
   "cell_type": "markdown",
   "id": "384f7b53",
   "metadata": {},
   "source": [
    "### 形态学梯度"
   ]
  },
  {
   "cell_type": "code",
   "execution_count": 5,
   "id": "162ba45e",
   "metadata": {},
   "outputs": [],
   "source": [
    "# 形态学梯度 = 膨胀 - 腐蚀\n",
    "import cv2\n",
    "import numpy as np\n",
    "\n",
    "img = cv2.imread('./ai.jpg')\n",
    "\n",
    "kernel = cv2.getStructuringElement(cv2.MORPH_RECT, (5, 5))\n",
    "\n",
    "dst = cv2.morphologyEx(img, cv2.MORPH_GRADIENT, kernel, iterations=2)\n",
    "\n",
    "cv2.imshow('dst', np.hstack((img, dst)))\n",
    "\n",
    "cv2.waitKey(0)\n",
    "cv2.destroyAllWindows()"
   ]
  },
  {
   "cell_type": "markdown",
   "id": "63104ee9",
   "metadata": {},
   "source": [
    "### 顶帽操作"
   ]
  },
  {
   "cell_type": "code",
   "execution_count": 8,
   "id": "701e18a0",
   "metadata": {},
   "outputs": [],
   "source": [
    "# 顶帽操作 = 原图 - 开运算\n",
    "import cv2\n",
    "import numpy as np\n",
    "\n",
    "img = cv2.imread('./j.jpg')\n",
    "\n",
    "kernel = cv2.getStructuringElement(cv2.MORPH_RECT, (3, 3))\n",
    "\n",
    "dst = cv2.morphologyEx(img, cv2.MORPH_TOPHAT, kernel, iterations=1)\n",
    "\n",
    "cv2.imshow('dst', np.hstack((img, dst)))\n",
    "\n",
    "cv2.waitKey(0)\n",
    "cv2.destroyAllWindows()"
   ]
  },
  {
   "cell_type": "markdown",
   "id": "ca478f43",
   "metadata": {},
   "source": [
    "### 黑帽操作"
   ]
  },
  {
   "cell_type": "code",
   "execution_count": 3,
   "id": "9902704d",
   "metadata": {},
   "outputs": [],
   "source": [
    "# 黑帽操作 = 原图 - 闭运算\n",
    "import cv2\n",
    "import numpy as np\n",
    "\n",
    "img = cv2.imread('./big.jpg')\n",
    "\n",
    "kernel = cv2.getStructuringElement(cv2.MORPH_RECT, (5, 5))\n",
    "\n",
    "dst = cv2.morphologyEx(img, cv2.MORPH_BLACKHAT, kernel, iterations=1)\n",
    "\n",
    "cv2.imshow('dst', np.hstack((img, dst)))\n",
    "\n",
    "cv2.waitKey(0)\n",
    "cv2.destroyAllWindows()"
   ]
  }
 ],
 "metadata": {
  "kernelspec": {
   "display_name": "Python 3 (ipykernel)",
   "language": "python",
   "name": "python3"
  },
  "language_info": {
   "codemirror_mode": {
    "name": "ipython",
    "version": 3
   },
   "file_extension": ".py",
   "mimetype": "text/x-python",
   "name": "python",
   "nbconvert_exporter": "python",
   "pygments_lexer": "ipython3",
   "version": "3.7.15"
  }
 },
 "nbformat": 4,
 "nbformat_minor": 5
}
