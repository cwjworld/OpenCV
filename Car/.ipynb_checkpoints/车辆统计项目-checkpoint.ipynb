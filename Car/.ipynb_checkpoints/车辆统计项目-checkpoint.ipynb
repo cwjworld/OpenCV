{
 "cells": [
  {
   "cell_type": "markdown",
   "id": "295419d7",
   "metadata": {},
   "source": [
    "### 视频的加载"
   ]
  },
  {
   "cell_type": "code",
   "execution_count": 1,
   "id": "6c5bacb9",
   "metadata": {},
   "outputs": [],
   "source": [
    "import cv2\n",
    "import numpy as np\n",
    "\n",
    "cap = cv2.VideoCapture('./car.mp4')\n",
    "\n",
    "# 循环读取视频的每一帧\n",
    "while True:\n",
    "    ret, frame = cap.read()\n",
    "    if ret == True:\n",
    "        cv2.imshow('car', frame)\n",
    "        \n",
    "    key = cv2.waitKey(1)\n",
    "    # 用户按ESC退出\n",
    "    if key == 27:\n",
    "        break\n",
    "        \n",
    "cap.release()\n",
    "cv2.destroyAllWindows()"
   ]
  },
  {
   "cell_type": "markdown",
   "id": "6fc97192",
   "metadata": {},
   "source": [
    "### 去除背景示例"
   ]
  },
  {
   "cell_type": "code",
   "execution_count": 3,
   "id": "82ba9055",
   "metadata": {},
   "outputs": [],
   "source": [
    "import cv2\n",
    "import numpy as np\n",
    "\n",
    "cap = cv2.VideoCapture(0)\n",
    "\n",
    "# 创建mog对象\n",
    "mog = cv2.bgsegm.createBackgroundSubtractorMOG()\n",
    "\n",
    "while True:\n",
    "    ret, frame = cap.read()\n",
    "    if ret == True:\n",
    "        fgmask = mog.apply(frame)\n",
    "        cv2.imshow('video', fgmask)\n",
    "        \n",
    "    key = cv2.waitKey(1)\n",
    "    # 用户按ESC退出\n",
    "    if key == 27:\n",
    "        break\n",
    "        \n",
    "cap.release()\n",
    "cv2.destroyAllWindows()"
   ]
  },
  {
   "cell_type": "markdown",
   "id": "03bea0c5",
   "metadata": {},
   "source": [
    "### 形态学识别车辆"
   ]
  },
  {
   "cell_type": "code",
   "execution_count": 16,
   "id": "ee8278aa",
   "metadata": {},
   "outputs": [],
   "source": [
    "import cv2\n",
    "import numpy as np\n",
    "\n",
    "cap = cv2.VideoCapture('./car.mp4')\n",
    "\n",
    "# 创建mog对象\n",
    "mog = cv2.bgsegm.createBackgroundSubtractorMOG()\n",
    "kernel = cv2.getStructuringElement(cv2.MORPH_RECT,(5, 5))\n",
    "\n",
    "while True:\n",
    "    ret, frame = cap.read()\n",
    "    if ret == True:\n",
    "        # 把原始帧进行灰度化处理，然后去噪\n",
    "        gray = cv2.cvtColor(frame, cv2.COLOR_BGR2GRAY)\n",
    "        blur = cv2.GaussianBlur(gray, (3, 3), 5)\n",
    "        mask = mog.apply(frame)\n",
    "        \n",
    "        # 腐蚀操作\n",
    "        erode = cv2.erode(mask, kernel)\n",
    "        cv2.imshow('video', mask)\n",
    "        \n",
    "        # 膨胀还原回来\n",
    "        dialite = cv2.dilate(erode, kernel, iterations=2)\n",
    "        \n",
    "        # 消除内部小方块\n",
    "        # 闭运算\n",
    "        close = cv2.morphologyEx(dialite, cv2.MORPH_CLOSE, kernel)\n",
    "        cv2.imshow('video', erode)\n",
    "        cv2.imshow('dialate', dialite)\n",
    "        cv2.imshow('close', close)\n",
    "        \n",
    "    key = cv2.waitKey(1)\n",
    "    # 用户按ESC退出\n",
    "    if key == 27:\n",
    "        break\n",
    "        \n",
    "cap.release()\n",
    "cv2.destroyAllWindows()"
   ]
  }
 ],
 "metadata": {
  "kernelspec": {
   "display_name": "Python 3 (ipykernel)",
   "language": "python",
   "name": "python3"
  },
  "language_info": {
   "codemirror_mode": {
    "name": "ipython",
    "version": 3
   },
   "file_extension": ".py",
   "mimetype": "text/x-python",
   "name": "python",
   "nbconvert_exporter": "python",
   "pygments_lexer": "ipython3",
   "version": "3.7.15"
  }
 },
 "nbformat": 4,
 "nbformat_minor": 5
}
