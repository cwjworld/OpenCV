{
 "cells": [
  {
   "cell_type": "markdown",
   "id": "960f8daa",
   "metadata": {},
   "source": [
    "## 边缘检测Canny"
   ]
  },
  {
   "cell_type": "code",
   "execution_count": 2,
   "id": "b137d5a4",
   "metadata": {},
   "outputs": [],
   "source": [
    "import cv2\n",
    "import numpy as np\n",
    "\n",
    "img = cv2.imread('./lena.jpg')\n",
    "\n",
    "# 阈值给的稍大，绘制的边缘不够精细\n",
    "lena1 = cv2.Canny(img, 100, 200)\n",
    "\n",
    "# 可以通过给小一点的阈值，等到较为精细的边缘\n",
    "lena2 = cv2.Canny(img, 64, 128)\n",
    "\n",
    "cv2.imshow('lena', np.hstack((lena1, lena2)))\n",
    "\n",
    "cv2.waitKey(0)\n",
    "cv2.destroyAllWindows()"
   ]
  },
  {
   "cell_type": "markdown",
   "id": "3235f2a4",
   "metadata": {},
   "source": [
    "## 形态学"
   ]
  },
  {
   "cell_type": "markdown",
   "id": "947cc306",
   "metadata": {},
   "source": [
    "### 全局二值化"
   ]
  },
  {
   "cell_type": "code",
   "execution_count": 15,
   "id": "b52d5a29",
   "metadata": {},
   "outputs": [
    {
     "name": "stdout",
     "output_type": "stream",
     "text": [
      "120.0\n"
     ]
    }
   ],
   "source": [
    "import cv2\n",
    "import numpy as np\n",
    "\n",
    "img = cv2.imread('./dog.jpg')\n",
    "\n",
    "# 二值化操作是对灰度图像操作，把dog变成灰度图像\n",
    "gray = cv2.cvtColor(img, cv2.COLOR_BGR2GRAY)\n",
    "\n",
    "# threshold返回两个值，一个是阈值，一个是处理后的图片\n",
    "thresh, dst = cv2.threshold(gray, 120, 255, cv2.THRESH_BINARY)\n",
    "\n",
    "print(thresh)\n",
    "cv2.imshow('dst', np.hstack((gray, dst)))\n",
    "\n",
    "cv2.waitKey(0)\n",
    "cv2.destroyAllWindows()"
   ]
  },
  {
   "cell_type": "markdown",
   "id": "65a9c02c",
   "metadata": {},
   "source": [
    "### 自适应阈值二值化"
   ]
  },
  {
   "cell_type": "code",
   "execution_count": 5,
   "id": "7b4b4e7a",
   "metadata": {},
   "outputs": [],
   "source": [
    "# 因为光线问题，全局二值化会导致有部分地方看不见了，这时候就需要自适应阈值二值化了\n",
    "import cv2\n",
    "import numpy as np\n",
    "\n",
    "img = cv2.imread('./dog.jpg')\n",
    "\n",
    "gray = cv2.cvtColor(img, cv2.COLOR_BGR2GRAY)\n",
    "\n",
    "# 自适应阈值二值化只有一个返回值\n",
    "dst = cv2.adaptiveThreshold(gray, 255, cv2.ADAPTIVE_THRESH_GAUSSIAN_C, cv2.THRESH_BINARY, 15, 0)\n",
    "\n",
    "cv2.imshow('dst', np.hstack((gray, dst)))\n",
    "\n",
    "cv2.waitKey(0)\n",
    "cv2.destroyAllWindows()"
   ]
  },
  {
   "cell_type": "markdown",
   "id": "6d1b9d30",
   "metadata": {},
   "source": [
    "### 腐蚀操作"
   ]
  },
  {
   "cell_type": "code",
   "execution_count": 8,
   "id": "f110d31c",
   "metadata": {},
   "outputs": [],
   "source": [
    "import cv2\n",
    "import numpy as np\n",
    "\n",
    "img = cv2.imread('./test.jpg')\n",
    "\n",
    "# 定义核\n",
    "kernel = np.ones((3, 3), np.uint8)\n",
    "\n",
    "# 自适应阈值二值化只有一个返回值\n",
    "dst = cv2.erode(img, kernel, iterations=1)\n",
    "\n",
    "cv2.imshow('dst', np.hstack((img, dst)))\n",
    "\n",
    "cv2.waitKey(0)\n",
    "cv2.destroyAllWindows()"
   ]
  },
  {
   "cell_type": "markdown",
   "id": "2aab21c6",
   "metadata": {},
   "source": [
    "### 获取形态学卷积核"
   ]
  },
  {
   "cell_type": "code",
   "execution_count": 13,
   "id": "92603556",
   "metadata": {},
   "outputs": [
    {
     "name": "stdout",
     "output_type": "stream",
     "text": [
      "[[0 0 0 0 1 0 0 0 0]\n",
      " [0 1 1 1 1 1 1 1 0]\n",
      " [0 1 1 1 1 1 1 1 0]\n",
      " [1 1 1 1 1 1 1 1 1]\n",
      " [1 1 1 1 1 1 1 1 1]\n",
      " [1 1 1 1 1 1 1 1 1]\n",
      " [0 1 1 1 1 1 1 1 0]\n",
      " [0 1 1 1 1 1 1 1 0]\n",
      " [0 0 0 0 1 0 0 0 0]]\n",
      "--------------------------------\n",
      "[[0 0 1 0 0]\n",
      " [0 0 1 0 0]\n",
      " [1 1 1 1 1]\n",
      " [0 0 1 0 0]\n",
      " [0 0 1 0 0]]\n"
     ]
    }
   ],
   "source": [
    "import cv2\n",
    "import numpy as np\n",
    "\n",
    "img = cv2.imread('./black.jpg')\n",
    "\n",
    "# 椭圆\n",
    "kernel1 = cv2.getStructuringElement(cv2.MORPH_ELLIPSE, (9, 9))\n",
    "print(kernel1)\n",
    "\n",
    "print('--------------------------------')\n",
    "\n",
    "# 十字架\n",
    "kernel2 = cv2.getStructuringElement(cv2.MORPH_CROSS, (5, 5))\n",
    "print(kernel2)\n",
    "\n",
    "# 腐蚀\n",
    "dst = cv2.erode(img, kernel)\n",
    "cv2.imshow('dst', dst)\n",
    "\n",
    "cv2.waitKey(0)\n",
    "cv2.destroyAllWindows()"
   ]
  },
  {
   "cell_type": "code",
   "execution_count": null,
   "id": "abe0f53c",
   "metadata": {},
   "outputs": [],
   "source": []
  }
 ],
 "metadata": {
  "kernelspec": {
   "display_name": "Python 3 (ipykernel)",
   "language": "python",
   "name": "python3"
  },
  "language_info": {
   "codemirror_mode": {
    "name": "ipython",
    "version": 3
   },
   "file_extension": ".py",
   "mimetype": "text/x-python",
   "name": "python",
   "nbconvert_exporter": "python",
   "pygments_lexer": "ipython3",
   "version": "3.7.15"
  }
 },
 "nbformat": 4,
 "nbformat_minor": 5
}
