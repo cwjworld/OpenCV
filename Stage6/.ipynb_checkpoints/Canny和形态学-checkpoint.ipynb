{
 "cells": [
  {
   "cell_type": "markdown",
   "id": "960f8daa",
   "metadata": {},
   "source": [
    "## 边缘检测Canny"
   ]
  },
  {
   "cell_type": "code",
   "execution_count": 2,
   "id": "b137d5a4",
   "metadata": {},
   "outputs": [],
   "source": [
    "import cv2\n",
    "import numpy as np\n",
    "\n",
    "img = cv2.imread('./lena.jpg')\n",
    "\n",
    "# 阈值给的稍大，绘制的边缘不够精细\n",
    "lena1 = cv2.Canny(img, 100, 200)\n",
    "\n",
    "# 可以通过给小一点的阈值，等到较为精细的边缘\n",
    "lena2 = cv2.Canny(img, 64, 128)\n",
    "\n",
    "cv2.imshow('lena', np.hstack((lena1, lena2)))\n",
    "\n",
    "cv2.waitKey(0)\n",
    "cv2.destroyAllWindows()"
   ]
  },
  {
   "cell_type": "markdown",
   "id": "3235f2a4",
   "metadata": {},
   "source": [
    "## 形态学"
   ]
  },
  {
   "cell_type": "markdown",
   "id": "947cc306",
   "metadata": {},
   "source": [
    "### 全局二值化"
   ]
  },
  {
   "cell_type": "code",
   "execution_count": 15,
   "id": "b52d5a29",
   "metadata": {},
   "outputs": [
    {
     "name": "stdout",
     "output_type": "stream",
     "text": [
      "120.0\n"
     ]
    }
   ],
   "source": [
    "import cv2\n",
    "import numpy as np\n",
    "\n",
    "img = cv2.imread('./dog.jpg')\n",
    "\n",
    "# 二值化操作是对灰度图像操作，把dog变成灰度图像\n",
    "gray = cv2.cvtColor(img, cv2.COLOR_BGR2GRAY)\n",
    "\n",
    "# threshold返回两个值，一个是阈值，一个是处理后的图片\n",
    "thresh, dst = cv2.threshold(gray, 120, 255, cv2.THRESH_BINARY)\n",
    "\n",
    "print(thresh)\n",
    "cv2.imshow('dst', np.hstack((gray, dst)))\n",
    "\n",
    "cv2.waitKey(0)\n",
    "cv2.destroyAllWindows()"
   ]
  }
 ],
 "metadata": {
  "kernelspec": {
   "display_name": "Python 3 (ipykernel)",
   "language": "python",
   "name": "python3"
  },
  "language_info": {
   "codemirror_mode": {
    "name": "ipython",
    "version": 3
   },
   "file_extension": ".py",
   "mimetype": "text/x-python",
   "name": "python",
   "nbconvert_exporter": "python",
   "pygments_lexer": "ipython3",
   "version": "3.7.15"
  }
 },
 "nbformat": 4,
 "nbformat_minor": 5
}
